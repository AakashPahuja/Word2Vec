{
 "cells": [
  {
   "cell_type": "markdown",
   "metadata": {},
   "source": [
    "# Creating Word Vectors using the word2vec in Python\n",
    "\n",
    "In this first example we will use the focus group comments."
   ]
  },
  {
   "cell_type": "code",
   "execution_count": 1,
   "metadata": {},
   "outputs": [
    {
     "name": "stderr",
     "output_type": "stream",
     "text": [
      "C:\\APPS\\Anaconda3\\lib\\site-packages\\gensim\\utils.py:1197: UserWarning: detected Windows; aliasing chunkize to chunkize_serial\n",
      "  warnings.warn(\"detected Windows; aliasing chunkize to chunkize_serial\")\n"
     ]
    }
   ],
   "source": [
    "import nltk\n",
    "from nltk import sent_tokenize, word_tokenize\n",
    "from nltk.corpus import stopwords\n",
    "import pandas as pd\n",
    "import gensim\n",
    "from gensim.models.word2vec import Word2Vec\n",
    "from sklearn.manifold import TSNE\n",
    "from bokeh.io import output_notebook\n",
    "from bokeh.plotting import show, figure\n",
    "%matplotlib inline"
   ]
  },
  {
   "cell_type": "markdown",
   "metadata": {},
   "source": [
    "#### Loading the comments\n",
    "Let's load the social media comments as in previous examples"
   ]
  },
  {
   "cell_type": "code",
   "execution_count": 3,
   "metadata": {},
   "outputs": [
    {
     "data": {
      "text/plain": [
       "<function TextIOWrapper.close>"
      ]
     },
     "execution_count": 3,
     "metadata": {},
     "output_type": "execute_result"
    }
   ],
   "source": [
    "#Read the datasets\n",
    "filename = './data/AllWeeks.txt'\n",
    "text = ''\n",
    "\n",
    "f=open(filename,'r',encoding=\"utf8\")\n",
    "lines=f.readlines()\n",
    "for line in lines:\n",
    "    text+=line.lower()\n",
    "f.close"
   ]
  },
  {
   "cell_type": "code",
   "execution_count": 4,
   "metadata": {},
   "outputs": [
    {
     "name": "stdout",
     "output_type": "stream",
     "text": [
      "no i dont think so - we did this with oab and patients seem to be able to make correct decisions and understand their co-existent issues. in other words i do think that they are appropriate the symptoms mentioned only can be confuse with underactive bladder which may have similar type symptoms\n",
      "detrusor underactivity is a difficult to diagnose and not as common condition. in selected clinic and urodynamic series it may occur in 15% or so. i agree that the symptoms may partially overlap, but even md provider will likely give alpha blocker to those pts as they do not have a full uds examination to review.\n",
      "it's not inappropriate for these patients to take tamsulosin. the main issue is going to be whether or not the data are considered adequate to demonstrate that people who have not been diagnosed already with these comorbid conditions and take otc tamsulosin hydrochloride receive their diagnosis promptly. if the data are adequate to show that the otc drug does not delay the diagnosis long enough to result in adverse consequences then this should be acceptable.\n",
      "i really dont think so. i guess the issue is not the underlying comorbidity but whether the individual is taking medications for certain conditions that might interact with the alpha blocker. specifically, if they are on certain anti-hypertensive meds which might increase the risk of orthostasis. seems like a small number of meds and patients but something the fda might raise.\n",
      "re brian stark: virtually all alpha blockers including tamsulosin have been studied with mostly all antihypertensive classes and the aes are not higher in those pts on antihypertensives. orthostasis specifically is about 0.5% across all studies. re targaryen: receiving a diagnosis i would not imagine is a concern. what diagnosis specifically do you think might be delayed? i am not really clear on this.\n",
      "from the wording of your question, i am assuming these are patients who are already dx with the condition. but is could also be extended to patients who have not been dx yet and trying to treat a symptom thus a concern, whether real or hypothetical, would be to prove that the underlying condition would not produce one of the symptoms you are trying to treat. also if a patient is being treated with a rx drug, could one of the side effects be one of the urinary tract condition listed above that the patient now tries to treat on their own with the otc product?\n",
      "i will try to address the last items here: clearly, many pts present with frequency, and nocturia when they are on antihypertensives specifically diuretics, they just don't put 2 and 2 together in that way. a medical provider would pick up on that and point it out and try to mitigate. i have found many pts in the actual use study being on diuretics and having frequency. that is an issue dificult to resolve.\n",
      "we might be able to avoid some long-term misuse by encouraging a medical evaluation after 3 months of use.\n",
      "none of the currently mentioned conditions are an absolute contraindication to giving tamsulosin, and alpha blockers have been given regularly to patients with all of these co-morbidities. if our concern is the as-yet-undiscovered diagnosis, this is a risk with just about all otcs which could delay an actual pathologic diagnosis that might be useful to know. this is a known risk of otcs. the adverse effects and how to recognize them needs to be very clear. also, patients who use tamsulosin otc over the counter can be encouraged to talk with their physician at some point to \"clarify their condition and see if some additional treatment is needed.\"\n",
      "and actually in the actual use studies many pts state that they plan to bring it up with their doctor. whether they do or not is a different question\n",
      "we could consider encouraging them to bring it up whether or not there symptoms are relieved if they have been using the otc for over 3 months. this would encourage men to go to physician for check-up. (maybe)\n",
      "i think this is a very important point that has been raised by fda over the years. a consumer/pt may say they would talk to their but d they really do that. issue will be to show what the potential consumer would do and back it with data. not what they say they would do.. which is the correct answer but hard to measure in an aut if they did not do it.\n",
      "all that an otc company can do is recommend medical consultation and make as convincing an argument as possible that it is i nthe consumers' interest. this is a lot for a package insert but it might need to be done.\n",
      "do you have data regarding how internists or family practice physicians prescribe tamsulosin? how often is the product given in the current practice environment as a trial for a couple of weeks without a urologic workup?\n",
      "i will speak to that: alpha blockers for luts/bph are prescribed by pcp and uro and both groups prescribe probably equally common i would say the guidelines provide guidance what test to do prior to prescribing, but really, just the h&p, dre perhaps, psa if indicated and an quantitative questionnaire are required. if you will, most pts are given a rx on a trial basis, but not for 2 wks, usually for much longer. i try for example to tell pts to send me a mychart message after 4 wks with update.. but.. most pts don't do that!\n",
      "i agree. at least 4 weeks would be the time for most pcps to see if the medicine helps and/or an adverse event occurs. of course, pts are alerted in advance to possible adverse events and advised to stop immediately if one occurs.\n",
      "in reply to claus re pcp and uro prescribing of alphabs for luts/bph, an important issue is how the otc labelig matches up with the current standard of care provided by pcps and uros. if the standards of care include a trial run, and that is the uk model, perhaps the discussion should move to why no trial run (e.g., 30 days). for the organizer, it would be good at this stage to have a proposed argument for why no trial period in the u.s., and an unbiased discussion of the group of what conditions, if any, would be appropriate for a trial run (which might be handled by exclusionary labeling.\n",
      "it would seem from the data collected in the exploratory actual use study that men do mimic the \"trial run\" if you like as 36.7% only purchased 1 box of study drug and never returned to the participating pharmacy to repurchase product.\n",
      "do you have any info about why men did not but a second box in the exploratory actual use study?\n",
      "no we did not\n",
      "i do not believe an otc product currently available uses the word 'trial' or 'trial run' on the label. this would seem somewhat unorthodox as well. what is on the label is the instruction to 'see your doctor if you have no improvement or worsening\" or such language. i would argue that essentially is the essence of a 'trial' and what providers do. i tell my pts to take it and after one mo call or email me or communicate in the emr. one problem is that few pts do that despite me giving them my cell phone number. if they have no benefit they either stop or continue without thinking much about it this is not all that difference from the studies done here.\n",
      "so if they stop use or continue using without thinking much about it what ultimately happens with them? have they had an evaluation from you prior to giving them the medication? how do you think the populations in a typical practice compare with the proposed otc population with regard to risk?\n",
      "the last sentence from daenerys is more to the point re claus' comment. the more that can be done to have data to demonstrate patient demographics, refill rates (and non-refill rates), reasons for decisions to continue or to stop, to seek a md visit or not, etc., the better for the argument. some of us on the team remember when the otc review actually used physician experience by testimony as valid support for otcness and labeling, but as we know this is a much more data-driven process. hence, my interest in seeing any additional information along these lines that the company can share.\n",
      "yes, gregor described what i was thinking about but in more detail. i think that the more information that you have to show similarity between the populations and use behaviors for tamsulosin hydrochloride in the prescription and otc settings, the more strength that your argument for otcness will have.\n",
      "this requires us to encourage consumers to think like clincians. this may be difficult. perhaps some abbreviated use of a risk/benefit ratio might be helpful in the insert?\n",
      "not really. the label is the surrogate for the clinician. if the product as prescribed is given to a population that is much like the otc self-selector population then this information may mitigate concerns on the part of the advisory committee.\n",
      "but to get the man to \"think like a doctor\" may require some unique way of designing an algorithm and/or noting risk/benefit considerations rather than simply displaying a list of information.\"\n",
      "all conditions where md involvement is needed, not self treatment\n",
      "proposing a \"trial run\" after a brief use of the product is not a workable approach. it might work in the u.k. where the pharmacist is the :\"gate keeper\", but in the u.s. the product would be available on the shelf without the need for a learned intermediary. if an drug-drug interaction or a specific contraindication is needed for the product to be approved otc, the caution must be on the label and understood by the consumer.\n",
      "yes, otcness is predicated on the label, suitable evidence of label comprehension, and to the extent that the aus provides evidence of how self-selecting consumers behave in the context of the label, and the drug being studies in the aus. a couple of comments ago, daenerys stated \"how do you think the populations in a typical practice compare with the proposed otc population with regard to risk?\" the question is better stated, not as \"how do you think\" (i.e., opine), but how do studies convincingly demonstrate that populations in a typical practice compare with the proposed otc population with regard to risk? the complement is, do the data demonstrate that the physician selection of men suitable for alphabs is reasonably comparable to self-selection, wherein through this answer the label is shown adequate.\n",
      "this is an interesting question and, at this point, can only be determined by focus groups and/or simulation exercises. these may or may not be accurate. there is always a risk that consumers will use otc for misinterpreted reasons all that can be done is to try to put the indications, and the algorithm to help men decide whether or not this medicine is right for them, in as clear language as possible. i am still in favor of trying to encourage men to see their physicians even if the medicine is working if they continue to use it regularly for some set amount of time. clinicians want to know what meds their patients are taking, especially ones that may be taken eveyr day for a long period of time.\n",
      "i still think that they can\n",
      "these are all the types of concerns that an advisory committee would have and the sponsor needs to make a clear case that men are coping with these conditions for long periods of time (months or years) without consulting an hcp. so the incremental risk of trying tamsulosin hydrochloride would be low, as long as there are no contraindications. plus the label and insert should be demonstrated to drive increased physician interactions.\n",
      "the likelihood may or may not be low i think the demographics should not detract from the standpoint that men want treatment and i think that this option would be well accepted. this population likely might have co-morbidities as your research has suggested but the frequency of same should not factor against this. the biggest risk is urinary retention which we know from the 5 alpha reductase data occurs in a small per cent on an annual basis- but results in little real morbidity\n",
      "indeed, aur has an incidence of 1% or 1 out of 100 men per year in population based studies. in placebo control studies of men with bph / luts it may be as high a 2-5% it is interesting to note that one comorbid condition, prostate cancer, was mentioned as a caveat by the fda, but many of those pts we actually do not treat or discourage even the pursuit of a diagnosis.\n",
      "the likelihood of undiagnosed medically significant conditions is there. can you address the risk on a population basis? the small percent in your studies will still translate into a lot of men in actual numbers who will have these undiagnosed conditions once the drug is otc. the big issue is what happens with these undiagnosed men. if the medication gets them to the doctor sooner than later, then the otc drug may offer a benefit and won't be harmful. if it delays a cancer diagnosis by a significant period of time, this will be a problem.\n",
      "seems like the likelihood is low but claus' point bears mentioning. i do think that the fda will raise the issue of missed prostate cancer again and while claus is correct in stating that we now routinely use active surveillance in low-risk men, one might postulate that the men with prostate cancer \"causing\" luts (cause in quotations because, lets face it, its pretty rare that cap causes luts although we like to make that connection) are more likely to have higher risk cancer. i personally think that this is probably not the case but i could see the fda raising this issue.\n",
      "to build off the line of discussions to date, you need to define the specific conditions you are going to refer. while the likelihood of an diagnosed condition may be low it is not zero and it is this issue that fda will raise to the advisory committee. once it hits the public forum of the ad com it is.hard to win over physicians on the panel by saying the risk is \"acceptable: so it becomes a political issue even though it may have started as a medical issue, especially since the main issue has been missed prostate cancer. so from a pure regulatory point of view, while the risk may be low,the issue is not if it is \"acceptable\" it is what are the consequences of a misdiagnosis for the consumer.\n",
      "is it not a bit hypocritical for our government to say through the uspstf \"no\" to any and all psa testing in any men, and then say through the fda that we must make sure we don't miss the prostate cancer diagnosis? i really do not see how this issue can be raised by the fda in the current climate.\n",
      "different agencies, different agenda...you are right but you are assuming that they are accountable to one another- which they arent\n",
      "this is a good question that is hard to answer. is there a way that an otc can be available but it does not significantly delay seeing a physician. i know that men will do what they choose, but if we recommend seeing a physician if the otc is being used for more than a specific amount of time or if the urinary condition is not improved, we might get more men in to see the physician. perhaps the otc algorithm needs to be clear about other potential risks and encourage men to visit a physician for regular check-up. another way to encourage physician visits is to note a few symptoms/signs that might indicate something more serious and recommend a medical appointment.\n",
      "i think the adcom will be concerned about a lot of potential missed diagnoses. diabetes and utis were an issue of discussion for oxytrol because there were concerns that delaying the diagnosis can lead to significant systemic illness fairly rapidly. can anyone speak more about what is known about the symptoms of bladder cancer becoming more obvious once luts/bph symptoms are relieved in a man with both of these conditions? this is what the briefing materials mention. bladder cancer diagnosis delay may be a big concern for the adcom and for the fda. having a well honed argument to address why this diagnosis delay would not be a major concern would be important. do we have any idea how frequently bladder cancer and luts/bph are present concomitantly?\n",
      "bph increases in prevalence with age, 60% at age 60 etc. bladder cancer is a disease of the elderly as well and thus both occur together frequently. the actual diagnoses of bladder cancer was very low in the first study where all pts had full evaluation by a urologist. wade can perhaps provide actual data. bladder cancer detection is most the time based on hematuria, rarely due to urgency and frequency (that is often stated in textbooks but rarely happens in real life. the issue raised is the carcinoma in situ example) i would say that concern is low on my radar.\n",
      "of the 729 men who were referred for a urologic assessment in study 527.83, one subject had an undiagnosed bladder cancer. this cancer was not causing or contributing to the urinary symptoms according to the study urologist, but was the cause of the abnormal urine dipstick finding. this specific individual reported that he saw his hcp on a very regular basis and had in fact see him/her within the month prior to study participation.\n",
      "this is an interesting discussion, but with blog discussions it can get to the point of being a bit scattered with the possibility of some points being lost. it's a certainty that the issue of the potential risk of an undiagnosed condition will be raised. i think a more systematic approach should be taken to answering this, and would like to suggest to the organizer/company to present into the discussion an safety algorithm that depicts types of consumers by diagnosed and undiagnosed conditions of importance, including the type of information/studies that mitigate concern with that putative risk.\n",
      "the suggestion to develop a safety algorithm is an interesting one. the company team has not approached the issue from that angle as there is no agreed upon definition of what constitutes a \"condition of importance\" and the agency's concern is not only linked to undagnosed conditions but also exacerbations of or suboptimally treated or even untreated known pathology. the potential \"types\" of consumers is vast as many men reported not seeing a hcp for their diagnosed pathology or not being compliant with the maganement regimen. the pre-read document reflects some of the conditions the agency has focussed on throughout the development program and our position on the topic.\n",
      "the safety algorithm fits the diagnostic model used in medicine. that will be the perspective of a number of adv. com. members. and, by 'systemitizing' the argument in an algorithm adv com member and fda see the process visually. some pluses to the idea, i think.\n",
      "perhaps all the decisions about \"to use or not to use\" and \"to see md or not to see md\" can be put into one usable algorithm for luts sufferers.\n",
      "i hear what everyone is saying and tend to agree with you. that being said, my experience with the agency has been that they often tend to be overly cautious- particularly in quality of life conditions. even though its just one case of bladder cancer, one wonders if perhaps the ad com might end up saying its one too many- particularly if they are lead that way by the fda officials (which i have also seen). i think the way to handle is to underscore that most of the things that might be missed are not going to be medically significant. many of the prostate cancer cases that might be are going to be indolent. a single case of low-grade bladder cancer missed is not a big deal...and in all cases, the short delay in diagnosis if it is something real wont change the long term outcome.\n",
      "what specific data do you have to support your viewpoint? it's the mssouri philosophy at fda, as in the \"show me\" state. also, the agency perspective is to grant you the \"most of cases\" argument, but to want to more closely examine the tails of the distribution. quite a while ago, a prominent fda otc official said the bar for otcs is higher than rx. as aspect of this is that one cannot discount the tails of the distribution, but rather address it head on with facts, clinical experience defined by standards of care, and best of all data. i reiterate my call for an infusion of data into this blog.\n",
      "i agree that the key is to be able to demonstrate that if there is a delay in diagnosis (and there will be in the otc setting) that the delay will be short and not of clinical consequence. i think that there is a case to be made that there is a difference between a delay in diagnosis and a missed diagnosis. i think that the nda should be clear on that difference. consider conduct a survey of patients who have been diagnosed with the conditions in your list (e.g., bladder ca, prostate ca, oab, chronic prostatitis) and how long they had experienced their symptoms prior to seeking medical attention. i think that if you can show that there is a substantial lag time between symptom onset and seeking physician input for luts conditions other than bph then you can easily make the argument that a 2-week use of otc tamsulosin hydrochloride won't be clinically meaningful in that context. do you know the expectation of benefit of the men who take tamsulosin hydrochloride? do they expect to be urinating with the same flow that they had when they were 20? my guess would be that they would not have that expectation. i think fda will be concerned about those men who have a concomitant condition with bph/luts who obtain partial relief from tamsulosin hydrochloride, are comfortable enough with the improvement not to bother getting checked out, and don't discuss their symptoms with their physician.\n",
      "your point....\"fda will be concerned about those men who have a concomitant condition with bph/luts who obtain partial relief from tamsulosin hydrochloride, are comfortable enough with the improvement not to bother getting checked out, and don't discuss their symptoms with their physician...\" is right on.\n",
      "good question. this might be approachable by advising men who are using the otc product successfully for more than 3 months should see a physician. i mentioned this elsewhere in this dialogue and pointed out that prilosec otc package ibnsert says \"see md if using for more than 14 days\" and see md if using more than 4 times in one year. i suspect that there are other otcs which recommend seeing an md if use is continued even with resolution of sx.\n",
      "there are data from the early studies in which all men with any findings underwent full evaluation by a urologist. these data suggest a fairly low incidence of medically significant diseases. i have to leave it to annelie or wade to actually 'infuse these data' into the discussion. from my knowledge it was a low incidence.\n",
      "perhaps we can see some of this information? list of msd, relevance of study rates to general population rates, importance of including people with known msd, or excluding through labeling etc.\n",
      "we can debate what the incidence is of undiagnosed conditions but key will be is you are suggesting that the otc label and conditions of use will be different than the rx label. as noted in the warning section of the rx insert: \" screening for prostate cancer prostate cancer and bph frequently co-exist; therefore, patients should be screened for the presence of prostate cancer prior to treatment with tamsulosin hydrochloride capsules and at regular intervals afterwards\". question is how will you handle this as the otc label will not capture this condition of use for physicians? does it set up a set of conditions that can not be currently met in the otc arena. (just thoughts for consideration-are you suggesting that the rx label will be changes or different than the otc label).\n",
      "we don't know from current data as a unknown (i suspect very large) bias exists. heretofore as such patients are weaned out prior to evaluation\n",
      "it seems to me that the risk to individuals with significant conditions that have not been diagnosed is not great with a 2 to 4 week trial of the product. if improvement in the bph symptoms does not improve after using the product for 4 weeks, the individual is unlikely to make another purchase. failure to improve symptoms may in fact serve to drive the individual to see a physician in general, men are less likely to see a physician except for an annual physical. failing to get improvement of the symptoms of bph may actually serve to scare men in to making an appointment.\n",
      "maybe, theon, tamsulosin hydrochloride needs new labeling? shenk j et al. association of symptomatic benign prostatic hyperplasia and prostate cancer: results from the prostate cancer prevention trial. am j epidemiol. 2011 jun 15; 173(12): 1419–1428. this study examined the association between symptomatic benign prostatic hyperplasia (bph) and prostate cancer risk in 5,068 placebo-arm participants enrolled in the prostate cancer prevention trial (1993–2003). these data include 1,225 men whose cancer was detected during the 7-year trial—556 detected for cause (following abnormal prostate-specific antigen or digital rectal examination) and 669 detected not for cause (without indication), as well as 3,843 men who had biopsy-proven absence of prostate cancer at the trial end. symptomatic bph was assessed hierarchically as self-report of surgical or medical treatment, moderately severe symptoms (international prostate symptom score >14), or physician diagnosis, and analyses were completed by bph status at baseline (prevalent) or bph prior to cancer diagnosis or study end (prevalent plus incident). controlled for age, race, and body mass index, neither prevalent (risk ratio = 1.03, 95% confidence interval: 0.92, 1.14) nor prevalent plus incident (risk ratio = 0.96, 95% confidence interval: 0.87, 1.06) symptomatic bph was associated with prostate cancer risk. this lack of association was consistent across subgroups defined by type of bph-defining event (treatment, symptoms, or physician diagnosis), prompt for prostate cancer diagnosis, and prostate cancer grade. this study provides the strongest evidence to date that bph does not increase the risk of prostate cancer.\n",
      "as with the previous question, it is really important to survey and characterize what men who develop these symptoms are actually doing about it. are they coping and managing through lifestyle changes for months or years before raising the topic with a doctor? if they try tamsulosin hydrochloride and it works for them, can we assume that there is a very high likelihood that it was simple bph? if not, can it be demonstrated that they will stop taking and be no worse off than before? or can it be demonstrated that some will actually consult a physician? if so, a net positive public health outcome can be argued as a benefit of having an otc treatment option with responsible educational labeling.\n",
      "am biased by oab indication - short answer is that the agency likes this as a safety check - but patient interpretation is problematic\n",
      "i appreciate the agency position. i personally believe the dipstick to be of limited use if any. this is based on teh studies that have been conducted of which i am aware\n",
      "it has not been studied whether or not consumers can properly use a dipstick. if the fda decides that they want this, i think new studies will need to be conducted to demonstrate that consumers can interpret the readings and then whether they will behave accordingly.\n",
      "yes- absolutely. cant speak for the fda but i think its overkill\n",
      "agree. suggesting studies to demonstrate competence in reading nad interpreting the dipstick is a dangerous route to go i would fee. the main idea has to be to not mandate dipstick as a prerequisite. the findings in the studies done to date are fairly limited.\n",
      "i would elimintae as this is one more thing that will be a \"speed bump\" the consumer will have to get right to use the product correctly. agree with other comment to date\n",
      "i believe we can put this to rest. most - but perhaps not the agency - believe the dipstick is an unnecessary complication in this process with limited yield of what is called a medically relevant condition\n",
      "i see little value in enclosing a dipstick. it would detect very few of the co-morbid conditions of concern. perhaps an algorithm of questions that include family history risk factors, symptoms and signs might work better to identify these other conditions of concern.\n",
      "in response to daenerys targaryen's comment about studying whether consumers can use a urine dipstick correctly it might be informative to know that in the tamsulosin otc program urine samples were analyzed initially by the pharmacy staff but then using a dipstick reader. in these studies we did asses what, if anything, consumers did when they were told about a finding in their urine sample and were advised to seek medical advice. the data generated in the studies that included a urine dipstick at baseline will be pooled to understand how many men followed up on this advice and if they didn't what their rationale was not to seek advice. in the final actual use study the urine dipstick was repeated at end-of-study if it was abnormal at baseline and data on why men choose not to speak to their doctor even after a repeat dipstick finding will be analyzed.\n",
      "that is helpful. if the ac and the fda get stuck on dipsticks, though, what is missing is the ability to see that consumers can actually dip the stick and see the color changes for blood, glucose, etc, read those changes and then understand what the changes mean. in the study it appears that men were told that an abnormality was there and to see a doctor but were not asked to interpret the dipstick findings on their own. it appears that you don't plan to use a dipstick anyway because company feels the data weren't suggestive that it was not needed. my comment is just to help think about what might come up if fda or the ac members disagree.\n",
      "your response is exactly what we were hoping to get as the goal of this virtual advisory board is just that: to think about what might come up if fda or the ac members disagree with the company position. thank you for helping us think these issues through.\n",
      "i believe we can put this to rest. most - but perhaps not the agency - believe the dipstick is an re claus gregor's comment that most believe a dipstick is an unnecessary complication in this process with limited yield of what is called a medically relevant condition. i'm okay with this, but would like to know the specific data (preferably publications) that support this, and what the standards of care used by pcps and uros states on this subject. again, as with some of my other comments, the open discussion on this should determine if there is any subtype of potential users of alphabs which might actually benefit from a dipsick test, and if so, then determine then how this might be handled in labeling (i.e., special precaution to some users, or contraindication to some users).\n",
      "i think you should not include a urine dipstick. the labeling should be adequate to drive the consumer to the physician if necessary. if the dipstick is included in the package, the use would have to be tested. in the absence of data that demonstrates the the dipstick is necessary to properly use the product, the inclusion adds an unnecessary layer of complexity to using the product correctly\n",
      "let's put question # 3 to rest. this group is not in favor and does not see a benefit in it\n",
      "this appears to be the case but i think that it will be important to craft a cogent argument that will convince the fda and the non-urologists on the advisory committee of the same. that argument, i think, rests in demonstrating that the delay of diagnosis of an underlying serious medical condition is not of clinical significance.\n",
      "claus, please do not misrepresent my comment of oct 19. gregor\n",
      "i think that doing such is a mistake\n",
      "i'm coming in late with my response to the first round of question, having spent the last week away from westeros. a agree a dipstick is not necessary and will overly complicate the otc paradigm with a drug and a device.\n",
      "i would anticipate a rate similar to the untreated male population i.e. 2 / 1000\n",
      "as below\n",
      "ps i appreciate the thrones reference but would prefer to be jon snow\n",
      "this is a question without key information. among other questions are the following. from a review of them, you'll see that a bit more specificity would be helpful. in general, however, a trial of 1,000 could easily miss uncommon and rare events. best to gives us a specific objective of the study, and some inclusion/exclusion criteria, along the line of my questions below. o what were the inclusion and exclusion criteria for the study? (e.g., normal bp or htn, dm or not, all normal healthy with no risk factors for heart disease, previous mi or not, etc.???) o what therapy was allowed…daily aspirin or not? o what is the range of ages? 21-80 years, 45-75 years? o is it a normal distribution that reflects the mean age of 60? o what is the distribution of underlying disease? o there are many causes of cardiovascular events (arrhythmias, cardiomyopathy, certain types of cancer, drug therapy used to treat certain types of cancer, carotid and coronary artery disease. hence what is the definition of cardiovascular? o why is ‘adverse’ in the question? wouldn’t ‘fatal’ suffice? bill soller\n",
      "inclusion criteria: 1. men, 18 years of age and older 2. able to speak, read and understand english. 3. subject or anyone in their household is not currently employed by a marketing or marketing research company, an advertising agency or public relations firm, a pharmacy or pharmaceutical company, a manufacturer of medicines, a managed care or health insurance company as a certified or licensed healthcare professional or in a healthcare practice 4. subject has not participated in any clinical trial within the past 12 months. 5. able to sign an informed consent form and the hipaa form 6. willing and able to provide contact information exclusion criteria: 1. report an allergy to tamsulosin or sulfa drugs 2. report current use of a medication listed on under the “do not use” section of the dfl. 3. choose not to purchase the study product 4. do not provide informed consent or sign the hipaa form 5. do not provide contact information\n",
      "...i note my comments is listed under gregor cleganes ...how did that happen? see below re my comments on need for additional information. bill soller\n",
      "everyone was given an alias except the active co-chair. our experience is that this allows for a more robust/uninhibited conversation..\n",
      "i dont know the exact number but i would expect it to be the same as the untreated male population 9as mentioned by one of the other respondents)\n",
      "i would like to know the death rate in the clinical trials and how that compares with what you are seeing in your actual use study. i would also want to know the cause of each death and whether the death could be attributed to study drug or somehow to the use of the drug in the otc environment. what were the cardiovascular events? were any due to syncope secondary to the drug? if so, how does this correlate with what was seen in the clinical trials? what was the death rate in the placebo arm in the clinical trials and to what were those deaths due?\n",
      "i do not have information on actual rates of death and cv events in the studies but wade leon may?\n",
      "as the drug has been approved and marketed for a number of years you have a baseline to use as a comparison. however in an otc setting if the profile seen in otc vs rx setting is changing one would need to understand what is driving the fatal cv event. so it is not an absolute number but rather an event by event investigation especially if it is something that is being driven by an underlying disease or in a consumer who over-rode the label to select and use the product. however if it is occurring in consumers at ow risk and the drug is causing this it could be problem especially since the drug would be taken for chronic use and is being used to treat a \"lifestyle\" condition. in summary it is not just a number but understanding the reason for the events. further we do not know what consumer/pts where enrolled in the study, how many had cv disease at base lien so it really is a benefit vs risk assessment and absolute numbers don't always come into play.\n",
      "i have to ask again for wade to perhaps provide some data. how much of that really did happen in how many pts, ie n/n is what we need here!\n",
      "i agree, as stated earlier, more information and context is needed. not that long ago we did a headache study on and nce which had mild antiplatelet properties, and a young female study participant had a hemorrhagic stroke in the study. one occurrence of a very rare event in the population more likely to have the event in the eneral population may more likely be viewed as unrelated to the treatment (depending on the moa of the treatment), but two less so, and in any case any deaths in a trial needs individual investigation, contextualized by the inclusion and exclusion criteria for the trial.\n",
      "when the details of the analysis are known, if the conclusion is an increase in fatal cv events of any magnitude that cannot be explained by data collection issues will be a problem. of course, the statistical significance is important and the interpretation of \"causation\" will also have an impact.\n",
      "dear advisors, for this question we provided you with a link to the cdc’s deaths and mortality statistics webpage to help with answering this question. using this link: http://wonder.cdc.gov/ucd-icd10.html one can search for underlying causes of death from 1999-2014 and sort/filter by region, demographics, cause of death, gender, etc.\n",
      "i don't know that the advisory committee would consider the death statistics presented to be so relevant. i think that more relevant is the comparison of the populations in the rx clinical trials and the population in the aus and the specifics of each death case.\n",
      "in the randomized controlled clinical trials (rct) with tamsulosin significant comorbidity was an exclusion criterion, especially cardiovascular comorbidity. thus the rct study populations do not resemble an allcomers otc-simulated study population. the postmarketing experience data might be more in line with what one could expect in an otc environment than the experience in the rcts. an internal evaluation of the safety data relating to cardiovascular events and tamsulosin was performed and the results do not support a causal relationship. as part of the nda submission a full analysis will be performed on all available pharmacovigilance databases (external and internal) to assess this relationship further.\n",
      "i agree that the cdc data are not helpful. do you have other information that is more specific to the issue?\n",
      "would it be helpful to know more about the circumstances? ie did the men who had fatal cv events have preexistent cad, htn, prior mi etc? what was their concomitant medication? is there data available to this effect? i feel that the members of the adboard have a difficult time making statements in what essentially is a data vacuum?!\n",
      "yes, data helps drive conclusions and sort through opinions.\n",
      "not many\n",
      "more information is needed.\n",
      "echoing the other comments, the risk is low in that sample for that duration that an event will occur which cannot be readily explained by actual circumstances of the subject's health history and the event itself. as is often the case, the sponsor has to accept a small risk that a serious ae occurs which is possibly drug related and cannot be readily explained.\n",
      "i would suggest that the label say \"enlarged prostate urinary symptom reliever\" (or some such combination of words. most men of a certain age wake up to go so one symptom is going to be present automatically in the vast majority of older men. do you want to include some bother reference? i will leave it up to the urologists in the group to determine if the list is a good compilation of all the common bph symptoms listed in usual bph/luts guidelines.\n",
      "i agree with kahi drogo. the tamsulosin hydrochloride label uses the full name of the condition that we are discussing as \"benign prostatic hyperplasia (bph)\". the urology care foundation (i.e,. \"official\" foundation of the american urological association) defines benign prostatic hyperplasia in its consumer education page as: \"benign prostatic hyperplasia (bph) is an enlarged prostate.\" by contrast, prostatitis has urinary symptoms, such as painful, difficult and/or frequent urinating. hence, my view is that you have the best definition of treating a \"benign\" condition if you use \"enlarged prostate urinary symptom reliever.\"\n",
      "actually the condition is no longer correctly referred toes bph but rather benign prostatic obstruction of bpo how about lower urinary symptom reliever\n",
      "bpo is not the tamsulosin hydrochloride indication: tamsulosin hydrochloride capsules are indicated for the treatment of the signs and symptoms of benign prostatic hyperplasia (bph). tamsulosin hydrochloride capsules are not indicated for the treatment of hypertension.\" a discussion point for the group might be to focus on how the indication phrase can be consistent with tamsulosin hydrochloride and support otc limitations of use, if that's possible.\n",
      "those are similar enough, perhaps .he newer version is better\n",
      "this version is better\n",
      "i favor urinary symptom reliever. hard for a lay person to say its from their prostat. bph is not really a commonly used term and the tamsulosin hydrochloride indication was given decades ago.\n",
      "this is difficult because we are trying to express the medical indication in consumer friendly language. so the approach is to stick with the actual symptoms rather than assume the source of the symptoms is bph. many if not most men over 50 are likely to know some basics about prostate health (this can be tested) and the problems of urine flow which are fairly common with advancing age. however, benign prostatic hypertrophy is not likely to be well understood and company has found the best intermediate language which includes the word prostate. this language also nicely parallels the symptoms of oab which are in the oxytrol for women patch otc labeling.\n",
      "bph, is benign prostatic hyperplasia, per the tamsulosin hydrochloride indication i share a few comments ago. i also mentioned that the urology care foundation (i.e,. \"official\" foundation of the american urological association) defines benign prostatic hyperplasia in its consumer education page as: \"benign prostatic hyperplasia (bph) is an enlarged prostate.\" by contrast, prostatitis has urinary symptoms, such as painful, difficult and/or frequent urinating. also, i'll add now that the ucf defined in its consumer education interstitial cystitis (ic) as \"a chronic health condition that causes pain and pressure in the bladder and pelvic area. because of this, it is sometimes called painful bladder syndrome. ic can cause an urgent need to urinate, a frequent need to urinate, or both.\" note no mention of prostate. so, \"urinary symptom reliever\" would cover bph, prostatitis and ic. hence, i restated my view is that you have the best definition of treating a \"benign\" condition if you use \"enlarged prostate urinary symptom reliever.\" the company would also be able to align with ucf.\n",
      "there are two problems with the \"enlarged prostate\": 1) the size of the prostate does not correlate with symptoms severity as even small prostates can cause severe and bothersome symptoms 2) a consumer can not determine the size of an internal organ taking into account that women experience luts as well a phrase that makes the product gender specific was needed in the purpose statement. together with the agency we agreed upon \"prostate urinary symptoms\"\n",
      "so, it would have been helpful to know that you already had agency agreement on the phrase, \"prostate urinary symptoms.\" has the agency agreed on the rest of the label as well?\n",
      "can say \"symptoms most commonly (or \"often\") caused by enlarged prostate.\" the purpose of saying \"enlarged\" is simply to educate the pt about the most common source of the symptoms, not to encourage them to measure their own prostate size. perhaps saying \"enlarged prostate\" as a possible cause of the symptom will encourage men to consider seeing a physician if sx are persistent.\n",
      "for the urologists in the group, are their signs and symptoms of bph that you think are missing in this indication? in the label comprehension study work did they assess the meaning of \"prostate urinary symptom reliever\" to the otc consumer?\n",
      "no the team did not ask consumers what they believed prostate urinary symptoms meant. we did assess how well the study subjects understood the description of what prostate urinary symptoms could be.\n",
      "good questions, andrea. i mentioned what the urology care foundation uses in their consumer education. it might be useful to look on the nih web pages for consumer ed and other groups (e.g., mayo, harvard). if there is concurrence, then maybe it's just easier to adopt than swim upstream.\n",
      "i suggest keeping the focus of the label on symptoms that the consumer can recognize. accordingly, i think wording: prostate symptom reliever such as waking to go, going too often, weak stream or dribbling and starting and stopping.\n",
      "what concerns, if any, do you have regarding the adequacy of the current description of what constitutes prostate urinary symptoms? the label lumps the symptoms all together, however science makes a distiction between storage and voiding symptoms; does that need to be taken into account? do you think that this will be a concern to the fda or advisory committee?\n",
      "the label, in my opinion, needs to be written for the medically \"unsophisticated\" consumer. to this end, the distinction between storage and emptying symptoms isnt really has important as the descriptions of the symptoms you have included above. i still dont love the inclusion of the word \"prostate\" in urinary symptom reliever as i think many consumers dot really get what the prostate is or how it might cause symptoms. that being said, if you provide descriptives, i think you are fine and can even leave the term prostate. i have no concerns with the way you have catalogued the symptoms and i doubt the fda would either.\n",
      "i agree with bran. i don't think the consumer will care about the distinction. the consumer will be reading and trying to identify symptom by symptom.\n",
      "assuming that tamsulosin relieves both storage and voiding symptoms equally, then there is no need to distinguish on the label. the most important symptoms to list are the ones that bother men most, are most likely to drive men to acquire the medication, and are most likely to be successfully decreased with the medication treatment.\n",
      "i think you may need to prioritize some of the symptoms, i was to pick going to often and starting and stopping is this really a reason to use the drug and can this be due to other underlying conditions or age itself. it is also rather subjective, isn't it. may wish to consider trying to identify the most frequent reasons that would have less chance of masking something else, which could make it easier to get a positive vote at ndac. also the word \"prostate \" is still somewhat troubling.. can you provide the pdp? (how do you describe the product on the pdp as this is the first thing the consumer will look for when they want to buy the product?) this may help refine our answers to this question.\n",
      "1. appropriate self-identification of bph symptoms.(confusion with sexual dysfucntion) 2. inappropriate expectations of relief/cure 3. side-effects of medication, drug interactions (notably hypotension) 4. missing significant pathology 5. sensibly interpreting risk/benefit ratio\n",
      "kahi drago has a good list. under \"missing significant pathology\" i would expand this to address underlying conditions, comorbidities. in addition, i would add \"labeling related issues: legibility of the label, health literacy\", and also add \"inherent risk taking behavior of a subset(s) of the target population.\" also, and perhaps most important from a larger policy perspective, putting alphabs on the otc market for bph symptoms may well mean that men with very mild/mild symptoms will engage in treatment, when the prevailing view (right or wrong, or partially right and partially wrong) is to wait until symptoms are \"significant.\" i use \"significant\" as this is the descriptor used on many respected md-associated sites with consumer education. for example, some might opine that mild symptoms might better be approached with lifestyle changes, such as dietary changes, liquid volume restriction several hours before bedtime, etc. thus, under circumstances of use of alphabs for milder conditions may change the benefit/risk ratio of switch, since what is occurring in general practice is different from what is projected to happen through self-care. several years ago, i engaged in designing and fielding a survey for a rx/otc switch candidate, finding that in fact, for the drug/disease we were interested in, physicians had for years already been prescribing for milder forms of the disease. this helped a lot. question: does company have any information on this point?\n",
      "company does not have information that would allow us to understand whether physicians are prescribing tamsulosin to men with mild symptoms. in the otc-simulated studies we did collect data about the use of the aua recommended lifestyle modification (responses were \"ever used\", \"still using\" and \"never used\")\n",
      "well, otcness may mean men with milder symptoms will self select an alphab. however, if current practice shows men with milder symptoms often are part of the prescribing population, then that's helpful as mentioned in a prior comment, i remarked that his changes the benefit risk assessment, but likely modestly. these are not hard data to collect.\n",
      "it is probably \"bother\" more than the presence of multiple specific symptoms that c will drive otc use. many physicians also use the same criterion.\n",
      "as noted mis diagnosis is the key one patine ability to correctly understand their symptoms and perhaps distinguish from infectious issues is also a concern\n",
      "traditionally, otcness embodied recognition of symptoms vs. diagnosis. so in that sense, \"misdiagnosis\" per se may not be the question, since it suggests the consumer is dianogisnig their condition. perhaps then the question is: can the consumer distinguish between symptoms of different prostate related diseases/conditions to then act on those self-observations to see a physician for a diagnosis.. along this line of reasoning, the focus is on self-recognition of symptoms not the diagnosis or misdiagnosis of the disease/condition. if a person can select-in based on the label, can they (will they) appropriately select-out when they read the warnings, or when they self-observe no improvement (persistence of symptoms) or emergence of new symptoms or worsening of symptoms.\n",
      "conflicting diagnoses\n",
      "i think khal drogo's list is very good. i really dont think you want patients to diagnose themselves. you are selecting out patients with symptoms- because this is what patients understand- how they feel. you are going to select out patients who are bothered and that may impact effectiveness. that being said, patients are going to confuse some symptoms etc,\n",
      "i agree with the list in general and would like to build on gregor clegane's remarks. it might be entirely semantic, but it is important to avoid describing the consumer's self-selection decision as self-diganosis per se. this is not what we want them to do. nor is it what we want reveiwers and advisory committee members to obsess upon. what we can say is that these are setf-recognizable symptoms which are most likely to be associated with bph (which only a doctor can diagnose) and can be managed through appropriate use of this product.\n",
      "self-selection is a broader term than self-diagnosis because it includes consideration of indications and warnings. regarding the indication, company seems to have chosen a series of symptoms that people can self-identify. one difficulty in self-diagnosis may be found in the numbers that are part of the otc indication - \"two or more for at least three months.\" the number of and duration of the symptoms are as important as the symptoms themselves in leading a consumer to make the correct self-selection decision. how do my colleagues feel about men choosing the product if they have just one symptom and have had it for fewer than 3 months? is there a safety argument would you recommend that company make to the fda if they have men in their self-selection studies who fall into that category or self-selection decision error? are there particular concerns that you have regarding self-selection errors as they relate to warnings on the tamsulosin hydrochloride label? which ones do you think are the absolute contraindications that would put men in such danger that if consumers with those contraindications incorrectly self-selected to use tamsulosin hydrochloride these errors would kill the otc program? why do you feel that way? are there any mitigating arguments that you think company could make in this regard?\n",
      "my replies to andrea’s questions follow her questions with my the notation, “……reply” as the lead int to the reply. regarding the indication, company seems to have chosen a series of symptoms that people can self-identify. one difficulty in self-diagnosis may be found in the numbers that are part of the otc indication - \"two or more for at least three months.\" the number of and duration of the symptoms are as important as the symptoms themselves in leading a consumer to make the correct self-selection decision. ……….reply: realistically, i think most men who are seeking treatment are going to have more than 1 symptom. waking to go, however, could be do to poor evening fluid consumption habits in a non-bph person. so, i opt for 2 or more. how do my colleagues feel about men choosing the product if they have just one symptom and have had it for fewer than 3 months? ……….repy: it is not just the number but how bothersome the symptoms are. it is the “bothersomeness” of symptoms that motivate people/men to seek self-care or rx therapy. also, 3 months is okay, but in reality men will translate this to “a long time.” keep the 3 months, but know no one will look at a calendar. is there a safety argument would you recommend that company make to the fda if they have men in their self-selection studies who fall into that category or self-selection decision error? ………reply: see prior replies. i think it does not really matter, as most men will likely have 2 or more symptoms. in any case, this is like some of the other discussions where consumer input on the question would be helpful. are there particular concerns that you have regarding self-selection errors as they relate to warnings on the tamsulosin hydrochloride label? which ones do you think are the absolute contraindications that would put men in such danger that if consumers with those contraindications incorrectly self-selected to use tamsulosin hydrochloride these errors would kill the otc program? ……….reply: acute urinary retention, extreme difficulty passing even a drop of urine, any credible data that showed men with blood in their urine, discharge from their penis ignored the warnings.\n",
      "the ability of patients to accurately self-select could be tested, if you have not done this already, by getting a cohort of men of appropriate age, asking them to self-select by info on package insert and then have them evaluated by an expert (history only) who would use guideline recommendations and expert knowledge to determine best apporach for the specific subject patient. then an analysis is done of the concordance between pt self-selection and selection by expert. this type of study where consumer behavior is examined and immediately followed by an expert evaluation and then reviewing concordance of these two measures has been used to test consumer accuracy in self-selection for other drug classes.\n",
      "i agree with this approach and know of one switch product approved that used a similar construct for the aus. best to pre-define criteria as much as possible. it's hard to predict every scenario, but the an independent panel of 2 to 4 experts can adjudicate which situations are ideal, not perfect but acceptable due to low medical risk, and those that represent a potentially serious negative medical outcome.\n",
      "this is a short question but one that we could talk about for a very long time. andrea also raises some interestig ponts. the usual starting point for me is what is the current standard for the safety/efficacy profile based on the approved rx labeling. key is that this label serves as the bench mark and summary of the clinical data and post marketing experience that establishes the standard that physicians use to prescribe and monitor a patient. with that said, key issue for switch is how do you translate the approved labeling including practice standards for the rx product to the consumer otc label. with that said, how does the consumer/otc label handle the rx guidance to the physician that states:\"screening for prostate cancer prostate cancer and bph frequently co-exist; therefore, patients should be screened for the presence of prostate cancer prior to treatment with tamsulosin hydrochloride capsules and at regular intervals afterwards.\" are we saying this does not occur and it is no big deal and that the benefit of having tamsulosin hydrochloride otc will outweigh the risk as having prostate cancer. while the consumer may be treating symptoms are they missing an underlying condition? underlying prostate cancer and other conditions,including orthostatic hypotension, may not occur in a large number of patients but they still exist and are noted in the rx label. so issue is how do you change the practice standard that was used to establish the rx label and remove conditions of safe use for otc use. company will need to take this head on and build case on how consumers will use the product and select the product and when to stop. ( still going to be hard to get around the prostrate screening unless you work with aua to change practice standards and the rx label)\n",
      "theon greyjoy has summarized one of the foundational concerns that reviewers and experts express whenever confronted with a switch proposal that treats a chronic condition: \"are we saying this does not occur and it is no big deal and that the benefit of having tamsulosin hydrochloride otc will outweigh the risk as having prostate cancer. while the consumer may be treating symptoms are they missing an underlying condition? \" much of the theme of my responses to this and other questions has been to go back to what aging men are doing in the real world. this needs to be carefully documented because my understanding is that, like women with oab, they are silently coping with this common condition of aging and not taking it seriously enough to seek out professional advice. so the worries about missing an undiagnosed condition already exist without the presence of an otc option for symptom relief. and let's not forget that some are resorting to food supplement remedies like saw palmetto and a whole host of so-called prostate health remedies that are mass marketed with unsubstantiated claims. the argument needs to be made and supported that the tamsulosin hydrochloride product itself plus a responsible educational and support program will promote awareness and appropriate professional consultation beyond what is currently happening. hard to prove, but perhaps more cancers or other more serious conditions will be detected when an otc option exists with the accompanying informational support.\n",
      "here's an interesting study (abstract below) from mayo on the issue of contraindications and misdiagnosis. i go this from a simple bph by misdiagnosis pubmed search. so, my take on the discussion so far is that there seems to be a piece of homework needed, if the informality is not already available to the company. and that is to do (1) a lit search, more expanded than the quick look here; and (2) a study with a large claims database re bph, bph rx and subsequent dx of (list your underlying conditions). with a good programmer i know this type of study takes about 3 months, with 1 month set-up, at relatively low cost...and you can easily get the big numbers needed for this type of study. . ....anyway, here's the abstract as an example of what may already be published. bju int. 2005 mar;95(4):549-53. prevalence of conditions potentially associated with lower urinary tract symptoms in men. gades nm1, jacobson dj, girman cj, roberts ro, lieber mm, jacobsen sj. author information 1department of health sciences research, division of epidemiology, mayo clinic college of medicine, rochester, mn 55905, usa. gades.naomi@mayo.edu abstract objective: to estimate the frequency of conditions associated with lower urinary tract symptoms (luts, typically included when assessing benign prostatic hyperplasia, bph), as other causes of luts should be excluded when diagnosing bph, using data from the olmsted county study of urinary symptoms and health status among men. subjects and methods: during 1989-91, caucasian men aged 40-79 years were randomly selected from the olmsted county population. before contact, eligibility was determined by reviewing the community medical records. baseline exclusion criteria included comorbid pre-existing conditions or treatments, e.g. prostate, bladder or lower back surgery, bladder neck contracture or cancer, diabetes with lower extremity amputation, and neurological diseases, including parkinson's disease, amyotrophic lateral sclerosis, multiple sclerosis, tabes dorsalis and stroke. men with these conditions were excluded from the olmsted county study at baseline, because these conditions are potentially associated with luts. results: of the 5100 randomly sampled men, 13.4% met at least one of the pre-existing exclusion criteria. individually, the frequency of exclusions was 7.8% for prostate cancer or surgery, 4.8% for back surgery, 1.3% for bladder surgery and 1.4% for neurological conditions. all other conditions represented <1.0% of the study exclusions. older men were more likely to meet at least one of the exclusion criteria, with men in their fifth to eighth decade having a total exclusion frequency of 1.4%, 5.4%, 8.5% and 32.8%, respectively. the most common reason for men in their fifth decade to be excluded was lower back surgery (0.9%), whereas the most common reason in the eighth was prostate surgery (21.8%). conclusions: in men, conditions that may contribute to luts, other than bph, are prevalent in the community and increase in frequency with age. it is important that other conditions associated with luts be excluded before a definitive diagnosis of bph. any oversight in t\n",
      "self-recognition of the symptoms of bph is the important issue to be tested. my assumption is that most men will recognize most of the listed symptoms if reflects a symptom that is bothersome to that individual. if men don't relate to any of the symptoms they are unlikely to purchase and use the product.\n",
      "is there any comfort that could be derived from actual use data that could mitigate the self-selection errors about which my colleagues are worried?\n",
      "i may be a little confused here- what exactly do you mean by self-selection?\n",
      "in other words, if a man makes a self-selection error because he has an underlying condition of concern, is there anything in his behavior once he starts using the drug that could mitigate the concern that people have over his having chosen to use the drug in the first place? would stopping at 2 weeks be enough? is there something else that you would like to see?\n",
      "one of the occasional limitations of the otc label is that the section on \"ask a doctor before use if\" is separated from the section on \"stop use and ask a doctor if:...\" and, a consumer using the product is not likely to focus in on the section that says \"ask a doctor before use if...\" furthermore, if the otc label is stating to not begin use due to the presence of certain symptoms of diseases of concern, then why would use of the alphab reduce the emergence of, for example, pus in the urine, inability to urinate, extreme hunger etc. etc. (see otc label). perhaps a way to approach this to (a) repeat certain of the symptoms in the do not use if section in the stop use if appears or (b) take a stab at integrating the two sections in some way.\n",
      "ok. i think i understand. no- stop at 2 weeks and see a healthcare professional should be adequate\n",
      "what if, in the actual use study, there are some men who should stop after two weeks but take the drug longer than that, stopping after 3 or 4? how much additional clinical risk do you think this would incur and why?\n",
      "i think selection of subjects for the study and the study n work against this being as meaningful as hoped. given the relatively slow progression of some of the concerning underlying conditions, 3-4 weeks would not provide enough data to be superior to medical opinion...as much as i like data.\n",
      "okay. so what i'm going for is a rationale that company can use to address those men who were not perfectly adherent to the product label regarding duration of use.\n",
      "i guess the answer to andrea's question is.... it depends. can you have an incorrect answer for self selection and still be correct based on symptoms. isn't the main issue that the consumer could be using the drug to treat symptoms but these symptoms may be related to something other than bph? since many of the warnings cant be dx by the consumer. so are you right and get relief for the wrong reasons. this is where a study vs real world rx and physician standard of care may be helpful vs the otc setting\n",
      "looks pretty good... consider adding \"heart failure\" to causes (section 1) consider adding \"heart disease\" to ask your doctor section (3) i do not see the relationship between diabetes and \"extreme difficulty passing even a drop of urine\" - did you mean to put these together?\n",
      "thank you khal drogo for catching this typo. the last two bullets should be formatted as first level bullets, not sub-bullets. please see draft dfl & cil in resources on home page for correct formatting.\n",
      "i guess you're asking if we think the wording is reasonable. to ask if the label in the aus is adequate, we would need to see the data on the ss/aus study/ies and lcs. that said, under item 1, from a consumer standpoint the \"if you think\" phrase seems not quite on target. how would a consumer know within this warning whether or not they have these conditions, especially since the general term \"urinary symptoms\" is used. for warnings and action steps, more specificity is preferred, if possible. warning 2: seems okay. warning 3: given my comments on warning 1, it does not feel as if these three warning are adequately integrated. ...just to spur discussion, here's an attempt at what i mean: urinary symptoms can also be caused by: (insert list in warning 1) these conditions may be associated with symptoms such as: (insert list in warning 3) ...then put warning 2 as a \"specialty warning\" as the top of the warnings, such as: urinary retention warning: if you cannot urinate at all and have severe bladder pain, get medical help right away.\n",
      "retention can be silent as well so the pain should be segregated i.e. they dont always occur together\n",
      "do you have suggestions as to how the urinary retention warning language might read to capture this concept?\n",
      "..if you cannot urinate at all with ot without severe bladder pain, get medical help right away.\n",
      "these protective maneuvers are inadequate\n",
      "do you have recommendations as to why they are inadequate and how to optimize them?\n",
      "i am having a hard time getting my arms around this. you are basically asking patients to \"diagnose\" themselves here with item #1 and frankly i think that is really not the best way to go. patients cant tell if they have diabetes, bladder/prostate cancer or even an infection. seems like if you are telling patients this, you really have a problem getting to an otc state\n",
      "the purpose of this part of the label is to alert consumers that they might have a more serious condition that requires medical attention. this is a common element of many otc drug labels and is intended to drive interaction with an hcp. it also has to conform with the codified requirements of drug facts labeling on the outer carton which, despite best intentions, may not allow for optimal wording or formatting. so the wording can be optimized through iterative testing but the package insert can use additional, perhaps more complete, language to reinforce the dfl messages. whether or not they are \"adequate\" to prevent inappropriate self-selection can really only be tested in a cohort of men that have those symptoms. this can be problematic compared to simple label compression in a general population.\n",
      "another problem is that the fda generally won't accept testing of the cil for self-selection purposes because it is not available at point of purchase.\n",
      "that's appropriate. for this reason, some sponsors have designed actual use or self-selection studies that allow the consumer to take the product home and make so-called post-purchase deselection decisions. it can become complicated but studies have shown this will happen, especially when the consumer is confronted with a new and unique treatment option. labelling may include language about returning the product for a full refund.\n",
      "create a urinary retention alert, as follows. this is a potentially serious condition requiring immediate help, not unlike some hypersensivities/allergies. warnings allergy alert: do not use if you are allergic to” > tamsulosin > sulfa drugs urinary retention alert: if you cannot urinate at all and have severe bladder pain, get medical help right away. urinary symptoms can also be caused by: > infection of the bladder or prostate > diabetes > prostate or bladder cancer if you think you might have one of these conditions, or liver or kidney disease, talk to your doctor before use. dizziness, light-headedness, and fainting may occur. do not drive or operate machinery until you know how this medicine affects you. to reduce possible dizziness always take this medicine after a meal and stand up slowly. do not use: ask a doctor before use if you have:\n",
      "...formatting did not come out in the blog script being used. the last two lines each have the same bullets as teh draft dfl shard by company.\n",
      "can not see how a consumer will diagnose :\"urinary symptoms can also be caused by: infection of the bladder or prostate, diabetes, prostate or bladder cancer if you think you might have one of these conditions, or liver or kidney disease. talk to your doctor before use.\" did you conduct the study with consumers who have these conditions to see how they deselected or did you show that they spoke to a physician. also if a patient is being treated with certain products such as diuretics would they deselect? do you have data? you may wish to have/test a broad statement not to use and talk to your doctor if you are taking any prescription products or are being treated for diabetes, heart conditions, high blood pressure, etc.\n",
      "how would you view the label if company conducted label comprehension studies with hypothetical scenario questions addressing your concerns related to men who think that they might have a bladder or prostate infection, diabetes, prostate or bladder cancer? liver and kidney disease are common warnings on approved otc drug products so i would be surprised if fda would call out those specific warnings for this product. i'm having trouble envisioning how company could conduct a self-selection study on men who don't know that they have bladder or prostate cancer or bladder or prostate infections but think they might. how do they find those populations to enroll them? these men are different from those who know they have these underlying conditions. those men who know they have those conditions are already under the care of a physician because they have received a diagnosis and are probably being treated for them.\n",
      "well i like scenario questions, and i think as you know fda has liked them in the past as well. the symptoms of early comorbidities would have to be validated to create the scenarios. i think however some info from a robust claims data bases would be helpful as i mentioned in over comments asking for types of studies needed.\n",
      "good point.\n",
      "a consumer cannot know whether he has an infection, diabetes, prostate or bladder cancer, liver or kidney disease unless told by a doctor. i suggest the language be \"if you have been told by your doctor that you have.......\", do not use this product until you discuss it with your doctor.\n",
      "\n"
     ]
    }
   ],
   "source": [
    "print (text)"
   ]
  },
  {
   "cell_type": "markdown",
   "metadata": {},
   "source": [
    "#### Extract sentences\n",
    "We will parse the text and split it into sentences"
   ]
  },
  {
   "cell_type": "code",
   "execution_count": 5,
   "metadata": {},
   "outputs": [
    {
     "name": "stdout",
     "output_type": "stream",
     "text": [
      "[nltk_data] Downloading package punkt to\n",
      "[nltk_data]     C:\\Users\\Giancarlo\\AppData\\Roaming\\nltk_data...\n",
      "[nltk_data]   Package punkt is already up-to-date!\n"
     ]
    },
    {
     "data": {
      "text/plain": [
       "True"
      ]
     },
     "execution_count": 5,
     "metadata": {},
     "output_type": "execute_result"
    }
   ],
   "source": [
    "# Making sure you have downlaoded nltk sentence tokenization resources\n",
    "nltk.download('punkt')"
   ]
  },
  {
   "cell_type": "code",
   "execution_count": 6,
   "metadata": {
    "collapsed": true
   },
   "outputs": [],
   "source": [
    "def remove_punctuation(corpus):\n",
    "    punctuations = \".,\\\"-\\\\/#!?$%\\^&\\*;:{}=\\-_'~()\"    \n",
    "    filtered_corpus = [token for token in corpus if (not token in punctuations)]\n",
    "    return filtered_corpus\n",
    "\n",
    "def apply_stopwording(corpus, min_len):\n",
    "    filtered_corpus = [token for token in corpus if (not token in stopwords.words('english') and len(token)>min_len)]\n",
    "    return filtered_corpus\n",
    "\n",
    "def apply_lemmatization(corpus):\n",
    "    lemmatizer = nltk.WordNetLemmatizer()\n",
    "    normalized_corpus = [lemmatizer.lemmatize(token) for token in corpus]\n",
    "    return normalized_corpus\n",
    "\n",
    "\n",
    "# Extract sentences\n",
    "sa_sentences = sent_tokenize(text)\n",
    "\n",
    "# Extract tokens in each sentence\n",
    "tokens = []\n",
    "for sentence in sa_sentences:\n",
    "    t = word_tokenize(sentence)\n",
    "    tokens.append(apply_lemmatization(apply_stopwording(remove_punctuation(t),3)))"
   ]
  },
  {
   "cell_type": "code",
   "execution_count": 7,
   "metadata": {},
   "outputs": [
    {
     "name": "stdout",
     "output_type": "stream",
     "text": [
      "557\n",
      "['no i dont think so - we did this with oab and patients seem to be able to make correct decisions and understand their co-existent issues.', 'in other words i do think that they are appropriate the symptoms mentioned only can be confuse with underactive bladder which may have similar type symptoms\\ndetrusor underactivity is a difficult to diagnose and not as common condition.', 'in selected clinic and urodynamic series it may occur in 15% or so.', 'i agree that the symptoms may partially overlap, but even md provider will likely give alpha blocker to those pts as they do not have a full uds examination to review.', \"it's not inappropriate for these patients to take tamsulosin.\"]\n",
      "557\n",
      "[['dont', 'think', 'patient', 'seem', 'able', 'make', 'correct', 'decision', 'understand', 'co-existent', 'issue'], ['word', 'think', 'appropriate', 'symptom', 'mentioned', 'confuse', 'underactive', 'bladder', 'similar', 'type', 'symptom', 'detrusor', 'underactivity', 'difficult', 'diagnose', 'common', 'condition'], ['selected', 'clinic', 'urodynamic', 'series', 'occur'], ['agree', 'symptom', 'partially', 'overlap', 'even', 'provider', 'likely', 'give', 'alpha', 'blocker', 'full', 'examination', 'review'], ['inappropriate', 'patient', 'take', 'tamsulosin']]\n"
     ]
    }
   ],
   "source": [
    "print (len(sa_sentences))\n",
    "print (sa_sentences[0:5])\n",
    "print (len(tokens))\n",
    "print (tokens[0:5])"
   ]
  },
  {
   "cell_type": "markdown",
   "metadata": {},
   "source": [
    "#### Creating the Word2Vec model\n",
    "Using the sentences extracted in the previous step, we will create the Word2Vec model. Keep in mind we don't have a large corpus to generate the w2v model, so I am not expecting great results.\n",
    "\n",
    "Parameters:\n",
    "  - Sentences: the list of sentences\n",
    "  - size: the # of dimensions of the Word2Vec space being generated\n",
    "  - sg (skip grams): we are going to use the Skip Gram algorithm (this is a small dataset)\n",
    "  - window: window size for the skip grams\n",
    "  - min_count: minimum number of times a word must appear to be considered\n",
    "  - seed: for replicatebility \n",
    "  - workers: CPU cores to use for running the model"
   ]
  },
  {
   "cell_type": "code",
   "execution_count": 8,
   "metadata": {
    "collapsed": true
   },
   "outputs": [],
   "source": [
    "w2v_model = Word2Vec(sentences=tokens,size=32, sg=1, window = 5, min_count=3, seed = 20, workers=2)\n",
    "\n",
    "#You can save the model so you can reuse it later\n",
    "#w2v_model.save('./models/socialposts_01.w2v')\n",
    "\n",
    "#You can reload a saved model\n",
    "#w2v_model = gensim.models.Word2Vec.load('./models/sport_arts_model.w2v')"
   ]
  },
  {
   "cell_type": "code",
   "execution_count": 9,
   "metadata": {},
   "outputs": [
    {
     "name": "stdout",
     "output_type": "stream",
     "text": [
      "520\n",
      "{'dont': <gensim.models.keyedvectors.Vocab object at 0x0000018245A180B8>, 'think': <gensim.models.keyedvectors.Vocab object at 0x0000018245A74198>, 'patient': <gensim.models.keyedvectors.Vocab object at 0x0000018245A74438>, 'seem': <gensim.models.keyedvectors.Vocab object at 0x0000018245A744A8>, 'able': <gensim.models.keyedvectors.Vocab object at 0x0000018245A744E0>, 'make': <gensim.models.keyedvectors.Vocab object at 0x0000018245A74550>, 'correct': <gensim.models.keyedvectors.Vocab object at 0x0000018245A74588>, 'decision': <gensim.models.keyedvectors.Vocab object at 0x0000018245A745C0>, 'understand': <gensim.models.keyedvectors.Vocab object at 0x0000018245A74470>, 'issue': <gensim.models.keyedvectors.Vocab object at 0x0000018245A74518>, 'word': <gensim.models.keyedvectors.Vocab object at 0x0000018245A745F8>, 'appropriate': <gensim.models.keyedvectors.Vocab object at 0x0000018245A7E0F0>, 'symptom': <gensim.models.keyedvectors.Vocab object at 0x0000018245A7E208>, 'mentioned': <gensim.models.keyedvectors.Vocab object at 0x0000018245A7E128>, 'bladder': <gensim.models.keyedvectors.Vocab object at 0x0000018245A7E080>, 'similar': <gensim.models.keyedvectors.Vocab object at 0x0000018245A7E160>, 'type': <gensim.models.keyedvectors.Vocab object at 0x0000018245A7E1D0>, 'difficult': <gensim.models.keyedvectors.Vocab object at 0x0000018245A7E0B8>, 'diagnose': <gensim.models.keyedvectors.Vocab object at 0x0000018245A7E198>, 'common': <gensim.models.keyedvectors.Vocab object at 0x0000018245A7E2B0>, 'condition': <gensim.models.keyedvectors.Vocab object at 0x0000018245A7E240>, 'series': <gensim.models.keyedvectors.Vocab object at 0x0000018245A70B70>, 'occur': <gensim.models.keyedvectors.Vocab object at 0x0000018245A70FD0>, 'agree': <gensim.models.keyedvectors.Vocab object at 0x0000018245A70F60>, 'partially': <gensim.models.keyedvectors.Vocab object at 0x0000018245A70BA8>, 'even': <gensim.models.keyedvectors.Vocab object at 0x0000018245A70A90>, 'provider': <gensim.models.keyedvectors.Vocab object at 0x0000018245A707B8>, 'likely': <gensim.models.keyedvectors.Vocab object at 0x0000018245A70D68>, 'alpha': <gensim.models.keyedvectors.Vocab object at 0x0000018245A70DA0>, 'blocker': <gensim.models.keyedvectors.Vocab object at 0x0000018245A70EF0>, 'full': <gensim.models.keyedvectors.Vocab object at 0x0000018245A70EB8>, 'review': <gensim.models.keyedvectors.Vocab object at 0x0000018245A70F98>, 'inappropriate': <gensim.models.keyedvectors.Vocab object at 0x0000018245A70F28>, 'take': <gensim.models.keyedvectors.Vocab object at 0x0000018245A70E80>, 'tamsulosin': <gensim.models.keyedvectors.Vocab object at 0x0000018245A70DD8>, 'main': <gensim.models.keyedvectors.Vocab object at 0x0000018245A70E10>, 'going': <gensim.models.keyedvectors.Vocab object at 0x0000018245A70E48>, 'whether': <gensim.models.keyedvectors.Vocab object at 0x0000018245A70C50>, 'data': <gensim.models.keyedvectors.Vocab object at 0x0000018245A70A20>, 'adequate': <gensim.models.keyedvectors.Vocab object at 0x0000018245A70550>, 'demonstrate': <gensim.models.keyedvectors.Vocab object at 0x0000018245A705F8>, 'people': <gensim.models.keyedvectors.Vocab object at 0x0000018245A70630>, 'diagnosed': <gensim.models.keyedvectors.Vocab object at 0x0000018245A70668>, 'already': <gensim.models.keyedvectors.Vocab object at 0x0000018245A706D8>, 'comorbid': <gensim.models.keyedvectors.Vocab object at 0x0000018245A70780>, 'hydrochloride': <gensim.models.keyedvectors.Vocab object at 0x0000018245A70710>, 'diagnosis': <gensim.models.keyedvectors.Vocab object at 0x0000018245A70748>, 'show': <gensim.models.keyedvectors.Vocab object at 0x0000018245A706A0>, 'drug': <gensim.models.keyedvectors.Vocab object at 0x0000018245A70828>, 'delay': <gensim.models.keyedvectors.Vocab object at 0x0000018245A708D0>, 'long': <gensim.models.keyedvectors.Vocab object at 0x0000018245A704A8>, 'enough': <gensim.models.keyedvectors.Vocab object at 0x0000018245A70898>, 'result': <gensim.models.keyedvectors.Vocab object at 0x0000018245A70860>, 'adverse': <gensim.models.keyedvectors.Vocab object at 0x0000018245A705C0>, 'consequence': <gensim.models.keyedvectors.Vocab object at 0x0000018245A70588>, 'acceptable': <gensim.models.keyedvectors.Vocab object at 0x0000018245A70518>, 'really': <gensim.models.keyedvectors.Vocab object at 0x0000018245A709E8>, 'guess': <gensim.models.keyedvectors.Vocab object at 0x0000018245A70908>, 'underlying': <gensim.models.keyedvectors.Vocab object at 0x0000018245A70940>, 'comorbidity': <gensim.models.keyedvectors.Vocab object at 0x0000018245A70BE0>, 'individual': <gensim.models.keyedvectors.Vocab object at 0x0000018245A70D30>, 'taking': <gensim.models.keyedvectors.Vocab object at 0x0000018245A709B0>, 'medication': <gensim.models.keyedvectors.Vocab object at 0x0000018245A70B38>, 'certain': <gensim.models.keyedvectors.Vocab object at 0x0000018245A70470>, 'might': <gensim.models.keyedvectors.Vocab object at 0x000001824B29F748>, 'specifically': <gensim.models.keyedvectors.Vocab object at 0x000001824B29F7B8>, 'med': <gensim.models.keyedvectors.Vocab object at 0x000001824B29F780>, 'increase': <gensim.models.keyedvectors.Vocab object at 0x000001824B29F828>, 'risk': <gensim.models.keyedvectors.Vocab object at 0x000001824B29F7F0>, 'seems': <gensim.models.keyedvectors.Vocab object at 0x000001824B29F898>, 'like': <gensim.models.keyedvectors.Vocab object at 0x000001824B29F8D0>, 'small': <gensim.models.keyedvectors.Vocab object at 0x000001824B29F908>, 'number': <gensim.models.keyedvectors.Vocab object at 0x000001824B29F940>, 'something': <gensim.models.keyedvectors.Vocab object at 0x000001824B29F978>, 'raise': <gensim.models.keyedvectors.Vocab object at 0x000001824B29F9B0>, 'including': <gensim.models.keyedvectors.Vocab object at 0x000001824B29F9E8>, 'antihypertensive': <gensim.models.keyedvectors.Vocab object at 0x000001824B29FA20>, 'higher': <gensim.models.keyedvectors.Vocab object at 0x000001824B29FA58>, 'study': <gensim.models.keyedvectors.Vocab object at 0x000001824B29FA90>, 'would': <gensim.models.keyedvectors.Vocab object at 0x000001824B29FAC8>, 'concern': <gensim.models.keyedvectors.Vocab object at 0x000001824B29FB00>, 'clear': <gensim.models.keyedvectors.Vocab object at 0x000001824B29FB38>, 'wording': <gensim.models.keyedvectors.Vocab object at 0x000001824B29FB70>, 'question': <gensim.models.keyedvectors.Vocab object at 0x000001824B29FBA8>, 'assuming': <gensim.models.keyedvectors.Vocab object at 0x000001824B29FBE0>, 'could': <gensim.models.keyedvectors.Vocab object at 0x000001824B29FC18>, 'also': <gensim.models.keyedvectors.Vocab object at 0x000001824B29FC50>, 'trying': <gensim.models.keyedvectors.Vocab object at 0x000001824B29FC88>, 'treat': <gensim.models.keyedvectors.Vocab object at 0x000001824B29FCC0>, 'thus': <gensim.models.keyedvectors.Vocab object at 0x000001824B29FCF8>, 'real': <gensim.models.keyedvectors.Vocab object at 0x000001824B29FD30>, 'treated': <gensim.models.keyedvectors.Vocab object at 0x000001824B29FD68>, 'effect': <gensim.models.keyedvectors.Vocab object at 0x000001824B29FDA0>, 'urinary': <gensim.models.keyedvectors.Vocab object at 0x000001824B29FDD8>, 'tract': <gensim.models.keyedvectors.Vocab object at 0x000001824B29FE10>, 'listed': <gensim.models.keyedvectors.Vocab object at 0x000001824B29FE48>, 'product': <gensim.models.keyedvectors.Vocab object at 0x000001824B29FE80>, 'address': <gensim.models.keyedvectors.Vocab object at 0x000001824B29FEB8>, 'last': <gensim.models.keyedvectors.Vocab object at 0x000001824B29FEF0>, 'item': <gensim.models.keyedvectors.Vocab object at 0x000001824B29FF28>, 'many': <gensim.models.keyedvectors.Vocab object at 0x000001824B29FF60>, 'present': <gensim.models.keyedvectors.Vocab object at 0x000001824B29FF98>, 'frequency': <gensim.models.keyedvectors.Vocab object at 0x000001824B29FFD0>, 'diuretic': <gensim.models.keyedvectors.Vocab object at 0x000001824B29F518>, 'together': <gensim.models.keyedvectors.Vocab object at 0x000001824B29F588>, 'medical': <gensim.models.keyedvectors.Vocab object at 0x000001824B29F550>, 'point': <gensim.models.keyedvectors.Vocab object at 0x000001824B29F630>, 'mitigate': <gensim.models.keyedvectors.Vocab object at 0x000001824B29F5C0>, 'found': <gensim.models.keyedvectors.Vocab object at 0x000001824B29F5F8>, 'actual': <gensim.models.keyedvectors.Vocab object at 0x000001824B29F668>, 'evaluation': <gensim.models.keyedvectors.Vocab object at 0x000001824B29F6A0>, 'month': <gensim.models.keyedvectors.Vocab object at 0x000001824B29F6D8>, 'currently': <gensim.models.keyedvectors.Vocab object at 0x000001824B29F710>, 'absolute': <gensim.models.keyedvectors.Vocab object at 0x000001824B29DDA0>, 'contraindication': <gensim.models.keyedvectors.Vocab object at 0x000001824B29D828>, 'giving': <gensim.models.keyedvectors.Vocab object at 0x000001824B29BD68>, 'given': <gensim.models.keyedvectors.Vocab object at 0x000001824B29BCC0>, 'otcs': <gensim.models.keyedvectors.Vocab object at 0x000001824B29BFD0>, 'know': <gensim.models.keyedvectors.Vocab object at 0x000001824B29B390>, 'known': <gensim.models.keyedvectors.Vocab object at 0x000001824B29B710>, 'recognize': <gensim.models.keyedvectors.Vocab object at 0x000001824B29BC50>, 'need': <gensim.models.keyedvectors.Vocab object at 0x000001824B29BCF8>, 'talk': <gensim.models.keyedvectors.Vocab object at 0x000001824B2A5048>, 'physician': <gensim.models.keyedvectors.Vocab object at 0x000001824B2A5080>, 'additional': <gensim.models.keyedvectors.Vocab object at 0x000001824B2A50B8>, 'treatment': <gensim.models.keyedvectors.Vocab object at 0x000001824B2A50F0>, 'needed': <gensim.models.keyedvectors.Vocab object at 0x000001824B2A5128>, 'actually': <gensim.models.keyedvectors.Vocab object at 0x000001824B2A5160>, 'state': <gensim.models.keyedvectors.Vocab object at 0x000001824B2A5198>, 'doctor': <gensim.models.keyedvectors.Vocab object at 0x000001824B2A51D0>, 'different': <gensim.models.keyedvectors.Vocab object at 0x000001824B2A5208>, 'consider': <gensim.models.keyedvectors.Vocab object at 0x000001824B2A5240>, 'using': <gensim.models.keyedvectors.Vocab object at 0x000001824B2A5278>, 'encourage': <gensim.models.keyedvectors.Vocab object at 0x000001824B2A52B0>, 'maybe': <gensim.models.keyedvectors.Vocab object at 0x000001824B2A52E8>, 'important': <gensim.models.keyedvectors.Vocab object at 0x000001824B2A5320>, 'raised': <gensim.models.keyedvectors.Vocab object at 0x000001824B2A5358>, 'year': <gensim.models.keyedvectors.Vocab object at 0x000001824B2A5390>, 'potential': <gensim.models.keyedvectors.Vocab object at 0x000001824B2A53C8>, 'consumer': <gensim.models.keyedvectors.Vocab object at 0x000001824B2A5400>, 'back': <gensim.models.keyedvectors.Vocab object at 0x000001824B2A5438>, 'answer': <gensim.models.keyedvectors.Vocab object at 0x000001824B2A5470>, 'hard': <gensim.models.keyedvectors.Vocab object at 0x000001824B2A54A8>, 'measure': <gensim.models.keyedvectors.Vocab object at 0x000001824B2A54E0>, 'company': <gensim.models.keyedvectors.Vocab object at 0x000001824B2A5518>, 'recommend': <gensim.models.keyedvectors.Vocab object at 0x000001824B2A5550>, 'argument': <gensim.models.keyedvectors.Vocab object at 0x000001824B2A5588>, 'possible': <gensim.models.keyedvectors.Vocab object at 0x000001824B2A55C0>, 'package': <gensim.models.keyedvectors.Vocab object at 0x000001824B2A55F8>, 'insert': <gensim.models.keyedvectors.Vocab object at 0x000001824B2A5630>, 'done': <gensim.models.keyedvectors.Vocab object at 0x000001824B2A5668>, 'regarding': <gensim.models.keyedvectors.Vocab object at 0x000001824B2A56A0>, 'practice': <gensim.models.keyedvectors.Vocab object at 0x000001824B2A56D8>, 'prescribe': <gensim.models.keyedvectors.Vocab object at 0x000001824B2A5710>, 'often': <gensim.models.keyedvectors.Vocab object at 0x000001824B2A5748>, 'current': <gensim.models.keyedvectors.Vocab object at 0x000001824B2A5780>, 'environment': <gensim.models.keyedvectors.Vocab object at 0x000001824B2A57B8>, 'trial': <gensim.models.keyedvectors.Vocab object at 0x000001824B2A57F0>, 'week': <gensim.models.keyedvectors.Vocab object at 0x000001824B2A5828>, 'without': <gensim.models.keyedvectors.Vocab object at 0x000001824B2A5860>, 'speak': <gensim.models.keyedvectors.Vocab object at 0x000001824B2A5898>, 'luts/bph': <gensim.models.keyedvectors.Vocab object at 0x000001824B2A58D0>, 'group': <gensim.models.keyedvectors.Vocab object at 0x000001824B2A5908>, 'probably': <gensim.models.keyedvectors.Vocab object at 0x000001824B2A5940>, 'guideline': <gensim.models.keyedvectors.Vocab object at 0x000001824B2A5978>, 'provide': <gensim.models.keyedvectors.Vocab object at 0x000001824B2A59B0>, 'test': <gensim.models.keyedvectors.Vocab object at 0x000001824B2A59E8>, 'prior': <gensim.models.keyedvectors.Vocab object at 0x000001824B2A5A20>, 'prescribing': <gensim.models.keyedvectors.Vocab object at 0x000001824B2A5A58>, 'perhaps': <gensim.models.keyedvectors.Vocab object at 0x000001824B2A5A90>, 'indicated': <gensim.models.keyedvectors.Vocab object at 0x000001824B2A5AC8>, 'basis': <gensim.models.keyedvectors.Vocab object at 0x000001824B2A5B00>, 'much': <gensim.models.keyedvectors.Vocab object at 0x000001824B2A5B38>, 'longer': <gensim.models.keyedvectors.Vocab object at 0x000001824B2A5B70>, 'example': <gensim.models.keyedvectors.Vocab object at 0x000001824B2A5BA8>, 'tell': <gensim.models.keyedvectors.Vocab object at 0x000001824B2A5BE0>, 'least': <gensim.models.keyedvectors.Vocab object at 0x000001824B2A5C18>, 'time': <gensim.models.keyedvectors.Vocab object at 0x000001824B2A5C50>, 'pcp': <gensim.models.keyedvectors.Vocab object at 0x000001824B2A5C88>, 'medicine': <gensim.models.keyedvectors.Vocab object at 0x000001824B2A5CC0>, 'help': <gensim.models.keyedvectors.Vocab object at 0x000001824B2A5CF8>, 'and/or': <gensim.models.keyedvectors.Vocab object at 0x000001824B2A5D30>, 'event': <gensim.models.keyedvectors.Vocab object at 0x000001824B2A5D68>, 'occurs': <gensim.models.keyedvectors.Vocab object at 0x000001824B2A5DA0>, 'stop': <gensim.models.keyedvectors.Vocab object at 0x000001824B2A5DD8>, 'reply': <gensim.models.keyedvectors.Vocab object at 0x000001824B2A5E10>, 'claus': <gensim.models.keyedvectors.Vocab object at 0x000001824B2A5E48>, 'alphabs': <gensim.models.keyedvectors.Vocab object at 0x000001824B2A5E80>, 'standard': <gensim.models.keyedvectors.Vocab object at 0x000001824B2A5EB8>, 'care': <gensim.models.keyedvectors.Vocab object at 0x000001824B2A5EF0>, 'include': <gensim.models.keyedvectors.Vocab object at 0x000001824B2A5F28>, 'discussion': <gensim.models.keyedvectors.Vocab object at 0x000001824B2A5F60>, 'e.g.': <gensim.models.keyedvectors.Vocab object at 0x000001824B2A5F98>, 'good': <gensim.models.keyedvectors.Vocab object at 0x000001824B2A5FD0>, 'proposed': <gensim.models.keyedvectors.Vocab object at 0x000001824B2A7048>, 'period': <gensim.models.keyedvectors.Vocab object at 0x000001824B2A7080>, 'labeling': <gensim.models.keyedvectors.Vocab object at 0x000001824B2A70B8>, 'pharmacy': <gensim.models.keyedvectors.Vocab object at 0x000001824B2A70F0>, 'info': <gensim.models.keyedvectors.Vocab object at 0x000001824B2A7128>, 'believe': <gensim.models.keyedvectors.Vocab object at 0x000001824B2A7160>, 'available': <gensim.models.keyedvectors.Vocab object at 0x000001824B2A7198>, 'us': <gensim.models.keyedvectors.Vocab object at 0x000001824B2A71D0>, \"'trial\": <gensim.models.keyedvectors.Vocab object at 0x000001824B2A7208>, 'label': <gensim.models.keyedvectors.Vocab object at 0x000001824B2A7240>, 'well': <gensim.models.keyedvectors.Vocab object at 0x000001824B2A7278>, 'improvement': <gensim.models.keyedvectors.Vocab object at 0x000001824B2A72B0>, 'language': <gensim.models.keyedvectors.Vocab object at 0x000001824B2A72E8>, 'call': <gensim.models.keyedvectors.Vocab object at 0x000001824B2A7320>, 'problem': <gensim.models.keyedvectors.Vocab object at 0x000001824B2A7358>, 'benefit': <gensim.models.keyedvectors.Vocab object at 0x000001824B2A7390>, 'continue': <gensim.models.keyedvectors.Vocab object at 0x000001824B2A73C8>, 'thinking': <gensim.models.keyedvectors.Vocab object at 0x000001824B2A7400>, 'difference': <gensim.models.keyedvectors.Vocab object at 0x000001824B2A7438>, 'happens': <gensim.models.keyedvectors.Vocab object at 0x000001824B2A7470>, 'population': <gensim.models.keyedvectors.Vocab object at 0x000001824B2A74A8>, 'typical': <gensim.models.keyedvectors.Vocab object at 0x000001824B2A74E0>, 'compare': <gensim.models.keyedvectors.Vocab object at 0x000001824B2A7518>, 'regard': <gensim.models.keyedvectors.Vocab object at 0x000001824B2A7550>, 'daenerys': <gensim.models.keyedvectors.Vocab object at 0x000001824B2A7588>, 'comment': <gensim.models.keyedvectors.Vocab object at 0x000001824B2A75C0>, 'demographic': <gensim.models.keyedvectors.Vocab object at 0x000001824B2A75F8>, 'rate': <gensim.models.keyedvectors.Vocab object at 0x000001824B2A7630>, 'reason': <gensim.models.keyedvectors.Vocab object at 0x000001824B2A7668>, 'seek': <gensim.models.keyedvectors.Vocab object at 0x000001824B2A76A0>, 'visit': <gensim.models.keyedvectors.Vocab object at 0x000001824B2A76D8>, 'better': <gensim.models.keyedvectors.Vocab object at 0x000001824B2A7710>, 'team': <gensim.models.keyedvectors.Vocab object at 0x000001824B2A7748>, 'used': <gensim.models.keyedvectors.Vocab object at 0x000001824B2A7780>, 'experience': <gensim.models.keyedvectors.Vocab object at 0x000001824B2A77B8>, 'support': <gensim.models.keyedvectors.Vocab object at 0x000001824B2A77F0>, 'otcness': <gensim.models.keyedvectors.Vocab object at 0x000001824B2A7828>, 'process': <gensim.models.keyedvectors.Vocab object at 0x000001824B2A7860>, 'hence': <gensim.models.keyedvectors.Vocab object at 0x000001824B2A7898>, 'seeing': <gensim.models.keyedvectors.Vocab object at 0x000001824B2A78D0>, 'information': <gensim.models.keyedvectors.Vocab object at 0x000001824B2A7908>, 'along': <gensim.models.keyedvectors.Vocab object at 0x000001824B2A7940>, 'line': <gensim.models.keyedvectors.Vocab object at 0x000001824B2A7978>, 'gregor': <gensim.models.keyedvectors.Vocab object at 0x000001824B2A79B0>, 'behavior': <gensim.models.keyedvectors.Vocab object at 0x000001824B2A79E8>, 'setting': <gensim.models.keyedvectors.Vocab object at 0x000001824B2A7A20>, 'risk/benefit': <gensim.models.keyedvectors.Vocab object at 0x000001824B2A7A58>, 'ratio': <gensim.models.keyedvectors.Vocab object at 0x000001824B2A7A90>, 'helpful': <gensim.models.keyedvectors.Vocab object at 0x000001824B2A7AC8>, 'part': <gensim.models.keyedvectors.Vocab object at 0x000001824B2A7B00>, 'advisory': <gensim.models.keyedvectors.Vocab object at 0x000001824B2A7B38>, 'committee': <gensim.models.keyedvectors.Vocab object at 0x000001824B2A7B70>, 'algorithm': <gensim.models.keyedvectors.Vocab object at 0x000001824B2A7BA8>, 'rather': <gensim.models.keyedvectors.Vocab object at 0x000001824B2A7BE0>, 'list': <gensim.models.keyedvectors.Vocab object at 0x000001824B2A7C18>, 'self': <gensim.models.keyedvectors.Vocab object at 0x000001824B2A7C50>, 'approach': <gensim.models.keyedvectors.Vocab object at 0x000001824B2A7C88>, 'work': <gensim.models.keyedvectors.Vocab object at 0x000001824B2A7CC0>, 'interaction': <gensim.models.keyedvectors.Vocab object at 0x000001824B2A7CF8>, 'specific': <gensim.models.keyedvectors.Vocab object at 0x000001824B2A7D30>, 'approved': <gensim.models.keyedvectors.Vocab object at 0x000001824B2A7D68>, 'understood': <gensim.models.keyedvectors.Vocab object at 0x000001824B2A7DA0>, 'evidence': <gensim.models.keyedvectors.Vocab object at 0x000001824B2A7DD8>, 'comprehension': <gensim.models.keyedvectors.Vocab object at 0x000001824B2A7E10>, 'context': <gensim.models.keyedvectors.Vocab object at 0x000001824B2A7E48>, 'stated': <gensim.models.keyedvectors.Vocab object at 0x000001824B2A7E80>, 'selection': <gensim.models.keyedvectors.Vocab object at 0x000001824B2A7EB8>, 'self-selection': <gensim.models.keyedvectors.Vocab object at 0x000001824B2A7EF0>, 'interesting': <gensim.models.keyedvectors.Vocab object at 0x000001824B2A7F28>, 'focus': <gensim.models.keyedvectors.Vocab object at 0x000001824B2A7F60>, 'always': <gensim.models.keyedvectors.Vocab object at 0x000001824B2A7F98>, 'indication': <gensim.models.keyedvectors.Vocab object at 0x000001824B2A7FD0>, 'right': <gensim.models.keyedvectors.Vocab object at 0x000001824B2AA048>, 'still': <gensim.models.keyedvectors.Vocab object at 0x000001824B2AA080>, 'favor': <gensim.models.keyedvectors.Vocab object at 0x000001824B2AA0B8>, 'want': <gensim.models.keyedvectors.Vocab object at 0x000001824B2AA0F0>, 'especially': <gensim.models.keyedvectors.Vocab object at 0x000001824B2AA128>, 'one': <gensim.models.keyedvectors.Vocab object at 0x000001824B2AA160>, 'taken': <gensim.models.keyedvectors.Vocab object at 0x000001824B2AA198>, 'sponsor': <gensim.models.keyedvectors.Vocab object at 0x000001824B2AA1D0>, 'case': <gensim.models.keyedvectors.Vocab object at 0x000001824B2AA208>, 'coping': <gensim.models.keyedvectors.Vocab object at 0x000001824B2AA240>, 'plus': <gensim.models.keyedvectors.Vocab object at 0x000001824B2AA278>, 'demonstrated': <gensim.models.keyedvectors.Vocab object at 0x000001824B2AA2B0>, 'drive': <gensim.models.keyedvectors.Vocab object at 0x000001824B2AA2E8>, 'likelihood': <gensim.models.keyedvectors.Vocab object at 0x000001824B2AA320>, 'option': <gensim.models.keyedvectors.Vocab object at 0x000001824B2AA358>, 'research': <gensim.models.keyedvectors.Vocab object at 0x000001824B2AA390>, 'factor': <gensim.models.keyedvectors.Vocab object at 0x000001824B2AA3C8>, 'retention': <gensim.models.keyedvectors.Vocab object at 0x000001824B2AA400>, 'little': <gensim.models.keyedvectors.Vocab object at 0x000001824B2AA438>, 'incidence': <gensim.models.keyedvectors.Vocab object at 0x000001824B2AA470>, 'based': <gensim.models.keyedvectors.Vocab object at 0x000001824B2AA4A8>, 'luts': <gensim.models.keyedvectors.Vocab object at 0x000001824B2AA4E0>, 'high': <gensim.models.keyedvectors.Vocab object at 0x000001824B2AA518>, 'note': <gensim.models.keyedvectors.Vocab object at 0x000001824B2AA550>, 'prostate': <gensim.models.keyedvectors.Vocab object at 0x000001824B2AA588>, 'cancer': <gensim.models.keyedvectors.Vocab object at 0x000001824B2AA5C0>, 'undiagnosed': <gensim.models.keyedvectors.Vocab object at 0x000001824B2AA5F8>, 'medically': <gensim.models.keyedvectors.Vocab object at 0x000001824B2AA630>, 'significant': <gensim.models.keyedvectors.Vocab object at 0x000001824B2AA668>, 'translate': <gensim.models.keyedvectors.Vocab object at 0x000001824B2AA6A0>, 'missed': <gensim.models.keyedvectors.Vocab object at 0x000001824B2AA6D8>, 'causing': <gensim.models.keyedvectors.Vocab object at 0x000001824B2AA710>, 'cause': <gensim.models.keyedvectors.Vocab object at 0x000001824B2AA748>, 'rare': <gensim.models.keyedvectors.Vocab object at 0x000001824B2AA780>, 'build': <gensim.models.keyedvectors.Vocab object at 0x000001824B2AA7B8>, 'date': <gensim.models.keyedvectors.Vocab object at 0x000001824B2AA7F0>, 'public': <gensim.models.keyedvectors.Vocab object at 0x000001824B2AA828>, 'saying': <gensim.models.keyedvectors.Vocab object at 0x000001824B2AA860>, 'though': <gensim.models.keyedvectors.Vocab object at 0x000001824B2AA898>, 'since': <gensim.models.keyedvectors.Vocab object at 0x000001824B2AA8D0>, 'view': <gensim.models.keyedvectors.Vocab object at 0x000001824B2AA908>, 'misdiagnosis': <gensim.models.keyedvectors.Vocab object at 0x000001824B2AA940>, 'testing': <gensim.models.keyedvectors.Vocab object at 0x000001824B2AA978>, 'agency': <gensim.models.keyedvectors.Vocab object at 0x000001824B2AA9B0>, 'choose': <gensim.models.keyedvectors.Vocab object at 0x000001824B2AA9E8>, 'regular': <gensim.models.keyedvectors.Vocab object at 0x000001824B2AAA20>, 'another': <gensim.models.keyedvectors.Vocab object at 0x000001824B2AAA58>, 'serious': <gensim.models.keyedvectors.Vocab object at 0x000001824B2AAA90>, 'concerned': <gensim.models.keyedvectors.Vocab object at 0x000001824B2AAAC8>, 'diabetes': <gensim.models.keyedvectors.Vocab object at 0x000001824B2AAB00>, 'lead': <gensim.models.keyedvectors.Vocab object at 0x000001824B2AAB38>, 'fairly': <gensim.models.keyedvectors.Vocab object at 0x000001824B2AAB70>, 'idea': <gensim.models.keyedvectors.Vocab object at 0x000001824B2AABA8>, 'frequently': <gensim.models.keyedvectors.Vocab object at 0x000001824B2AABE0>, 'disease': <gensim.models.keyedvectors.Vocab object at 0x000001824B2AAC18>, 'first': <gensim.models.keyedvectors.Vocab object at 0x000001824B2AAC50>, 'urologist': <gensim.models.keyedvectors.Vocab object at 0x000001824B2AAC88>, 'wade': <gensim.models.keyedvectors.Vocab object at 0x000001824B2AACC0>, 'assessment': <gensim.models.keyedvectors.Vocab object at 0x000001824B2AACF8>, 'subject': <gensim.models.keyedvectors.Vocab object at 0x000001824B2AAD30>, 'abnormal': <gensim.models.keyedvectors.Vocab object at 0x000001824B2AAD68>, 'urine': <gensim.models.keyedvectors.Vocab object at 0x000001824B2AADA0>, 'dipstick': <gensim.models.keyedvectors.Vocab object at 0x000001824B2AADD8>, 'finding': <gensim.models.keyedvectors.Vocab object at 0x000001824B2AAE10>, 'fact': <gensim.models.keyedvectors.Vocab object at 0x000001824B2AAE48>, 'within': <gensim.models.keyedvectors.Vocab object at 0x000001824B2AAE80>, 'blog': <gensim.models.keyedvectors.Vocab object at 0x000001824B2AAEB8>, 'suggest': <gensim.models.keyedvectors.Vocab object at 0x000001824B2AAEF0>, 'safety': <gensim.models.keyedvectors.Vocab object at 0x000001824B2AAF28>, 'importance': <gensim.models.keyedvectors.Vocab object at 0x000001824B2AAF60>, 'agreed': <gensim.models.keyedvectors.Vocab object at 0x000001824B2AAF98>, 'upon': <gensim.models.keyedvectors.Vocab object at 0x000001824B2AAFD0>, 'definition': <gensim.models.keyedvectors.Vocab object at 0x000001824B2AD048>, 'untreated': <gensim.models.keyedvectors.Vocab object at 0x000001824B2AD080>, 'pathology': <gensim.models.keyedvectors.Vocab object at 0x000001824B2AD0B8>, 'reflects': <gensim.models.keyedvectors.Vocab object at 0x000001824B2AD0F0>, 'program': <gensim.models.keyedvectors.Vocab object at 0x000001824B2AD128>, 'position': <gensim.models.keyedvectors.Vocab object at 0x000001824B2AD160>, 'perspective': <gensim.models.keyedvectors.Vocab object at 0x000001824B2AD198>, 'member': <gensim.models.keyedvectors.Vocab object at 0x000001824B2AD1D0>, 'said': <gensim.models.keyedvectors.Vocab object at 0x000001824B2AD208>, 'official': <gensim.models.keyedvectors.Vocab object at 0x000001824B2AD240>, 'seen': <gensim.models.keyedvectors.Vocab object at 0x000001824B2AD278>, 'handle': <gensim.models.keyedvectors.Vocab object at 0x000001824B2AD2B0>, 'thing': <gensim.models.keyedvectors.Vocab object at 0x000001824B2AD2E8>, 'deal': <gensim.models.keyedvectors.Vocab object at 0x000001824B2AD320>, 'short': <gensim.models.keyedvectors.Vocab object at 0x000001824B2AD358>, 'change': <gensim.models.keyedvectors.Vocab object at 0x000001824B2AD390>, 'term': <gensim.models.keyedvectors.Vocab object at 0x000001824B2AD3C8>, 'outcome': <gensim.models.keyedvectors.Vocab object at 0x000001824B2AD400>, 'distribution': <gensim.models.keyedvectors.Vocab object at 0x000001824B2AD438>, 'clinical': <gensim.models.keyedvectors.Vocab object at 0x000001824B2AD470>, 'defined': <gensim.models.keyedvectors.Vocab object at 0x000001824B2AD4A8>, 'best': <gensim.models.keyedvectors.Vocab object at 0x000001824B2AD4E0>, 'conduct': <gensim.models.keyedvectors.Vocab object at 0x000001824B2AD518>, 'survey': <gensim.models.keyedvectors.Vocab object at 0x000001824B2AD550>, 'chronic': <gensim.models.keyedvectors.Vocab object at 0x000001824B2AD588>, 'prostatitis': <gensim.models.keyedvectors.Vocab object at 0x000001824B2AD5C0>, 'seeking': <gensim.models.keyedvectors.Vocab object at 0x000001824B2AD5F8>, 'easily': <gensim.models.keyedvectors.Vocab object at 0x000001824B2AD630>, 'expectation': <gensim.models.keyedvectors.Vocab object at 0x000001824B2AD668>, 'expect': <gensim.models.keyedvectors.Vocab object at 0x000001824B2AD6A0>, 'urinating': <gensim.models.keyedvectors.Vocab object at 0x000001824B2AD6D8>, 'concomitant': <gensim.models.keyedvectors.Vocab object at 0x000001824B2AD710>, 'bph/luts': <gensim.models.keyedvectors.Vocab object at 0x000001824B2AD748>, 'relief': <gensim.models.keyedvectors.Vocab object at 0x000001824B2AD780>, 'bother': <gensim.models.keyedvectors.Vocab object at 0x000001824B2AD7B8>, 'getting': <gensim.models.keyedvectors.Vocab object at 0x000001824B2AD7F0>, 'discus': <gensim.models.keyedvectors.Vocab object at 0x000001824B2AD828>, 'leave': <gensim.models.keyedvectors.Vocab object at 0x000001824B2AD860>, 'general': <gensim.models.keyedvectors.Vocab object at 0x000001824B2AD898>, 'suggesting': <gensim.models.keyedvectors.Vocab object at 0x000001824B2AD8D0>, 'noted': <gensim.models.keyedvectors.Vocab object at 0x000001824B2AD908>, 'warning': <gensim.models.keyedvectors.Vocab object at 0x000001824B2AD940>, 'section': <gensim.models.keyedvectors.Vocab object at 0x000001824B2AD978>, 'screening': <gensim.models.keyedvectors.Vocab object at 0x000001824B2AD9B0>, 'presence': <gensim.models.keyedvectors.Vocab object at 0x000001824B2AD9E8>, 'capsule': <gensim.models.keyedvectors.Vocab object at 0x000001824B2ADA20>, 'interval': <gensim.models.keyedvectors.Vocab object at 0x000001824B2ADA58>, 'large': <gensim.models.keyedvectors.Vocab object at 0x000001824B2ADA90>, 'purchase': <gensim.models.keyedvectors.Vocab object at 0x000001824B2ADAC8>, 'le': <gensim.models.keyedvectors.Vocab object at 0x000001824B2ADB00>, 'association': <gensim.models.keyedvectors.Vocab object at 0x000001824B2ADB38>, 'symptomatic': <gensim.models.keyedvectors.Vocab object at 0x000001824B2ADB70>, 'benign': <gensim.models.keyedvectors.Vocab object at 0x000001824B2ADBA8>, 'prostatic': <gensim.models.keyedvectors.Vocab object at 0x000001824B2ADBE0>, 'hyperplasia': <gensim.models.keyedvectors.Vocab object at 0x000001824B2ADC18>, 'detected': <gensim.models.keyedvectors.Vocab object at 0x000001824B2ADC50>, 'severe': <gensim.models.keyedvectors.Vocab object at 0x000001824B2ADC88>, 'analysis': <gensim.models.keyedvectors.Vocab object at 0x000001824B2ADCC0>, 'baseline': <gensim.models.keyedvectors.Vocab object at 0x000001824B2ADCF8>, 'prevalent': <gensim.models.keyedvectors.Vocab object at 0x000001824B2ADD30>, 'associated': <gensim.models.keyedvectors.Vocab object at 0x000001824B2ADD68>, 'lifestyle': <gensim.models.keyedvectors.Vocab object at 0x000001824B2ADDA0>, 'simple': <gensim.models.keyedvectors.Vocab object at 0x000001824B2ADDD8>, 'health': <gensim.models.keyedvectors.Vocab object at 0x000001824B2ADE10>, 'limited': <gensim.models.keyedvectors.Vocab object at 0x000001824B2ADE48>, 'conducted': <gensim.models.keyedvectors.Vocab object at 0x000001824B2ADE80>, 'reading': <gensim.models.keyedvectors.Vocab object at 0x000001824B2ADEB8>, 'cant': <gensim.models.keyedvectors.Vocab object at 0x000001824B2ADEF0>, 'correctly': <gensim.models.keyedvectors.Vocab object at 0x000001824B2ADF28>, 'rest': <gensim.models.keyedvectors.Vocab object at 0x000001824B2ADF60>, 'unnecessary': <gensim.models.keyedvectors.Vocab object at 0x000001824B2ADF98>, 'called': <gensim.models.keyedvectors.Vocab object at 0x000001824B2ADFD0>, 'relevant': <gensim.models.keyedvectors.Vocab object at 0x000001824B2B1048>, 'history': <gensim.models.keyedvectors.Vocab object at 0x000001824B2B1080>, 'sign': <gensim.models.keyedvectors.Vocab object at 0x000001824B2B10B8>, 'identify': <gensim.models.keyedvectors.Vocab object at 0x000001824B2B10F0>, 'response': <gensim.models.keyedvectors.Vocab object at 0x000001824B2B1128>, 'sample': <gensim.models.keyedvectors.Vocab object at 0x000001824B2B1160>, 'ass': <gensim.models.keyedvectors.Vocab object at 0x000001824B2B1198>, 'told': <gensim.models.keyedvectors.Vocab object at 0x000001824B2B11D0>, 'advice': <gensim.models.keyedvectors.Vocab object at 0x000001824B2B1208>, 'included': <gensim.models.keyedvectors.Vocab object at 0x000001824B2B1240>, 'missing': <gensim.models.keyedvectors.Vocab object at 0x000001824B2B1278>, 'ability': <gensim.models.keyedvectors.Vocab object at 0x000001824B2B12B0>, 'blood': <gensim.models.keyedvectors.Vocab object at 0x000001824B2B12E8>, 'read': <gensim.models.keyedvectors.Vocab object at 0x000001824B2B1320>, 'mean': <gensim.models.keyedvectors.Vocab object at 0x000001824B2B1358>, 'appears': <gensim.models.keyedvectors.Vocab object at 0x000001824B2B1390>, 'feel': <gensim.models.keyedvectors.Vocab object at 0x000001824B2B13C8>, 'come': <gensim.models.keyedvectors.Vocab object at 0x000001824B2B1400>, 'okay': <gensim.models.keyedvectors.Vocab object at 0x000001824B2B1438>, 'determine': <gensim.models.keyedvectors.Vocab object at 0x000001824B2B1470>, 'user': <gensim.models.keyedvectors.Vocab object at 0x000001824B2B14A8>, 'necessary': <gensim.models.keyedvectors.Vocab object at 0x000001824B2B14E0>, 'tested': <gensim.models.keyedvectors.Vocab object at 0x000001824B2B1518>, 'inclusion': <gensim.models.keyedvectors.Vocab object at 0x000001824B2B1550>, 'away': <gensim.models.keyedvectors.Vocab object at 0x000001824B2B1588>, 'however': <gensim.models.keyedvectors.Vocab object at 0x000001824B2B15C0>, 'criterion': <gensim.models.keyedvectors.Vocab object at 0x000001824B2B15F8>, 'exclusion': <gensim.models.keyedvectors.Vocab object at 0x000001824B2B1630>, 'normal': <gensim.models.keyedvectors.Vocab object at 0x000001824B2B1668>, 'heart': <gensim.models.keyedvectors.Vocab object at 0x000001824B2B16A0>, 'therapy': <gensim.models.keyedvectors.Vocab object at 0x000001824B2B16D8>, 'cardiovascular': <gensim.models.keyedvectors.Vocab object at 0x000001824B2B1710>, 'fatal': <gensim.models.keyedvectors.Vocab object at 0x000001824B2B1748>, 'older': <gensim.models.keyedvectors.Vocab object at 0x000001824B2B1780>, 'marketing': <gensim.models.keyedvectors.Vocab object at 0x000001824B2B17B8>, 'healthcare': <gensim.models.keyedvectors.Vocab object at 0x000001824B2B17F0>, 'professional': <gensim.models.keyedvectors.Vocab object at 0x000001824B2B1828>, 'form': <gensim.models.keyedvectors.Vocab object at 0x000001824B2B1860>, 'contact': <gensim.models.keyedvectors.Vocab object at 0x000001824B2B1898>, 'happen': <gensim.models.keyedvectors.Vocab object at 0x000001824B2B18D0>, 'death': <gensim.models.keyedvectors.Vocab object at 0x000001824B2B1908>, 'select': <gensim.models.keyedvectors.Vocab object at 0x000001824B2B1940>, 'mild': <gensim.models.keyedvectors.Vocab object at 0x000001824B2B1978>, 'conclusion': <gensim.models.keyedvectors.Vocab object at 0x000001824B2B19B0>, 'explained': <gensim.models.keyedvectors.Vocab object at 0x000001824B2B19E8>, 'search': <gensim.models.keyedvectors.Vocab object at 0x000001824B2B1A20>, 'internal': <gensim.models.keyedvectors.Vocab object at 0x000001824B2B1A58>, 'relationship': <gensim.models.keyedvectors.Vocab object at 0x000001824B2B1A90>, 'circumstance': <gensim.models.keyedvectors.Vocab object at 0x000001824B2B1AC8>, 'statement': <gensim.models.keyedvectors.Vocab object at 0x000001824B2B1B00>, 'opinion': <gensim.models.keyedvectors.Vocab object at 0x000001824B2B1B38>, 'duration': <gensim.models.keyedvectors.Vocab object at 0x000001824B2B1B70>, 'related': <gensim.models.keyedvectors.Vocab object at 0x000001824B2B1BA8>, 'enlarged': <gensim.models.keyedvectors.Vocab object at 0x000001824B2B1BE0>, 'reliever': <gensim.models.keyedvectors.Vocab object at 0x000001824B2B1C18>, 'drogo': <gensim.models.keyedvectors.Vocab object at 0x000001824B2B1C50>, 'urology': <gensim.models.keyedvectors.Vocab object at 0x000001824B2B1C88>, 'foundation': <gensim.models.keyedvectors.Vocab object at 0x000001824B2B1CC0>, 'education': <gensim.models.keyedvectors.Vocab object at 0x000001824B2B1CF8>, 'page': <gensim.models.keyedvectors.Vocab object at 0x000001824B2B1D30>, 'painful': <gensim.models.keyedvectors.Vocab object at 0x000001824B2B1D68>, 'frequent': <gensim.models.keyedvectors.Vocab object at 0x000001824B2B1DA0>, 'treating': <gensim.models.keyedvectors.Vocab object at 0x000001824B2B1DD8>, 'lower': <gensim.models.keyedvectors.Vocab object at 0x000001824B2B1E10>, 'phrase': <gensim.models.keyedvectors.Vocab object at 0x000001824B2B1E48>, 'person': <gensim.models.keyedvectors.Vocab object at 0x000001824B2B1E80>, 'decade': <gensim.models.keyedvectors.Vocab object at 0x000001824B2B1EB8>, 'woman': <gensim.models.keyedvectors.Vocab object at 0x000001824B2B1EF0>, 'pain': <gensim.models.keyedvectors.Vocab object at 0x000001824B2B1F28>, 'urinate': <gensim.models.keyedvectors.Vocab object at 0x000001824B2B1F60>, 'size': <gensim.models.keyedvectors.Vocab object at 0x000001824B2B1F98>, 'bothersome': <gensim.models.keyedvectors.Vocab object at 0x000001824B2B1FD0>, 'purpose': <gensim.models.keyedvectors.Vocab object at 0x000001824B2B4048>, 'caused': <gensim.models.keyedvectors.Vocab object at 0x000001824B2B4080>, 'description': <gensim.models.keyedvectors.Vocab object at 0x000001824B2B40B8>, 'andrea': <gensim.models.keyedvectors.Vocab object at 0x000001824B2B40F0>, 'look': <gensim.models.keyedvectors.Vocab object at 0x000001824B2B4128>, 'mayo': <gensim.models.keyedvectors.Vocab object at 0x000001824B2B4160>, 'starting': <gensim.models.keyedvectors.Vocab object at 0x000001824B2B4198>, 'stopping': <gensim.models.keyedvectors.Vocab object at 0x000001824B2B41D0>, 'storage': <gensim.models.keyedvectors.Vocab object at 0x000001824B2B4208>, 'distinguish': <gensim.models.keyedvectors.Vocab object at 0x000001824B2B4240>, 'wrong': <gensim.models.keyedvectors.Vocab object at 0x000001824B2B4278>, 'milder': <gensim.models.keyedvectors.Vocab object at 0x000001824B2B42B0>, 'switch': <gensim.models.keyedvectors.Vocab object at 0x000001824B2B42E8>, 'allow': <gensim.models.keyedvectors.Vocab object at 0x000001824B2B4320>, 'self-diagnosis': <gensim.models.keyedvectors.Vocab object at 0x000001824B2B4358>, 'chosen': <gensim.models.keyedvectors.Vocab object at 0x000001824B2B4390>, 'difficulty': <gensim.models.keyedvectors.Vocab object at 0x000001824B2B43C8>, 'three': <gensim.models.keyedvectors.Vocab object at 0x000001824B2B4400>, 'colleague': <gensim.models.keyedvectors.Vocab object at 0x000001824B2B4438>, 'error': <gensim.models.keyedvectors.Vocab object at 0x000001824B2B4470>, 'relate': <gensim.models.keyedvectors.Vocab object at 0x000001824B2B44A8>, 'extreme': <gensim.models.keyedvectors.Vocab object at 0x000001824B2B44E0>, 'asking': <gensim.models.keyedvectors.Vocab object at 0x000001824B2B4518>, 'expert': <gensim.models.keyedvectors.Vocab object at 0x000001824B2B4550>, 'scenario': <gensim.models.keyedvectors.Vocab object at 0x000001824B2B4588>, 'potentially': <gensim.models.keyedvectors.Vocab object at 0x000001824B2B45C0>, 'claim': <gensim.models.keyedvectors.Vocab object at 0x000001824B2B45F8>, 'abstract': <gensim.models.keyedvectors.Vocab object at 0x000001824B2B4630>, 'excluded': <gensim.models.keyedvectors.Vocab object at 0x000001824B2B4668>, 'olmsted': <gensim.models.keyedvectors.Vocab object at 0x000001824B2B46A0>, 'county': <gensim.models.keyedvectors.Vocab object at 0x000001824B2B46D8>, 'surgery': <gensim.models.keyedvectors.Vocab object at 0x000001824B2B4710>, 'bullet': <gensim.models.keyedvectors.Vocab object at 0x000001824B2B4748>, 'formatting': <gensim.models.keyedvectors.Vocab object at 0x000001824B2B4780>, 'infection': <gensim.models.keyedvectors.Vocab object at 0x000001824B2B47B8>, 'alert': <gensim.models.keyedvectors.Vocab object at 0x000001824B2B47F0>, 'liver': <gensim.models.keyedvectors.Vocab object at 0x000001824B2B4828>, 'kidney': <gensim.models.keyedvectors.Vocab object at 0x000001824B2B4860>}\n"
     ]
    }
   ],
   "source": [
    "print (len(w2v_model.wv.vocab))\n",
    "print (w2v_model.wv.vocab)"
   ]
  },
  {
   "cell_type": "code",
   "execution_count": 10,
   "metadata": {},
   "outputs": [
    {
     "name": "stderr",
     "output_type": "stream",
     "text": [
      "C:\\APPS\\Anaconda3\\lib\\site-packages\\ipykernel_launcher.py:2: DeprecationWarning: Call to deprecated `__getitem__` (Method will be removed in 4.0.0, use self.wv.__getitem__() instead).\n",
      "  \n"
     ]
    },
    {
     "data": {
      "text/plain": [
       "32"
      ]
     },
     "execution_count": 10,
     "metadata": {},
     "output_type": "execute_result"
    }
   ],
   "source": [
    "# Each term is a vector in a 32-dimensional space\n",
    "len(w2v_model['tamsulosin'])"
   ]
  },
  {
   "cell_type": "code",
   "execution_count": 12,
   "metadata": {},
   "outputs": [
    {
     "name": "stderr",
     "output_type": "stream",
     "text": [
      "C:\\APPS\\Anaconda3\\lib\\site-packages\\ipykernel_launcher.py:2: DeprecationWarning: Call to deprecated `most_similar` (Method will be removed in 4.0.0, use self.wv.most_similar() instead).\n",
      "  \n"
     ]
    },
    {
     "data": {
      "text/plain": [
       "[('symptom', 0.9974979162216187),\n",
       " ('company', 0.9968241453170776),\n",
       " ('prostate', 0.9967771768569946),\n",
       " ('need', 0.9965850114822388),\n",
       " ('study', 0.9963476657867432),\n",
       " ('also', 0.9962530732154846),\n",
       " ('consumer', 0.9962126016616821),\n",
       " ('warning', 0.9961453676223755),\n",
       " ('product', 0.9961062669754028),\n",
       " ('self-selection', 0.9960931539535522)]"
      ]
     },
     "execution_count": 12,
     "metadata": {},
     "output_type": "execute_result"
    }
   ],
   "source": [
    "# Try words like 'tamsulosin', 'cancer', 'patient'\n",
    "w2v_model.most_similar('tamsulosin')"
   ]
  },
  {
   "cell_type": "code",
   "execution_count": 13,
   "metadata": {},
   "outputs": [
    {
     "name": "stderr",
     "output_type": "stream",
     "text": [
      "C:\\APPS\\Anaconda3\\lib\\site-packages\\ipykernel_launcher.py:2: DeprecationWarning: Call to deprecated `__getitem__` (Method will be removed in 4.0.0, use self.wv.__getitem__() instead).\n",
      "  \n"
     ]
    },
    {
     "data": {
      "text/html": [
       "<div>\n",
       "<style>\n",
       "    .dataframe thead tr:only-child th {\n",
       "        text-align: right;\n",
       "    }\n",
       "\n",
       "    .dataframe thead th {\n",
       "        text-align: left;\n",
       "    }\n",
       "\n",
       "    .dataframe tbody tr th {\n",
       "        vertical-align: top;\n",
       "    }\n",
       "</style>\n",
       "<table border=\"1\" class=\"dataframe\">\n",
       "  <thead>\n",
       "    <tr style=\"text-align: right;\">\n",
       "      <th></th>\n",
       "      <th>x</th>\n",
       "      <th>y</th>\n",
       "      <th>word</th>\n",
       "    </tr>\n",
       "  </thead>\n",
       "  <tbody>\n",
       "    <tr>\n",
       "      <th>0</th>\n",
       "      <td>3.408856</td>\n",
       "      <td>-3.909420</td>\n",
       "      <td>dont</td>\n",
       "    </tr>\n",
       "    <tr>\n",
       "      <th>1</th>\n",
       "      <td>-39.261364</td>\n",
       "      <td>-12.356514</td>\n",
       "      <td>think</td>\n",
       "    </tr>\n",
       "    <tr>\n",
       "      <th>2</th>\n",
       "      <td>-46.412117</td>\n",
       "      <td>-11.238316</td>\n",
       "      <td>patient</td>\n",
       "    </tr>\n",
       "    <tr>\n",
       "      <th>3</th>\n",
       "      <td>37.998791</td>\n",
       "      <td>12.227210</td>\n",
       "      <td>seem</td>\n",
       "    </tr>\n",
       "    <tr>\n",
       "      <th>4</th>\n",
       "      <td>-9.732599</td>\n",
       "      <td>0.689811</td>\n",
       "      <td>able</td>\n",
       "    </tr>\n",
       "    <tr>\n",
       "      <th>5</th>\n",
       "      <td>-43.475597</td>\n",
       "      <td>-11.008735</td>\n",
       "      <td>make</td>\n",
       "    </tr>\n",
       "    <tr>\n",
       "      <th>6</th>\n",
       "      <td>-12.356521</td>\n",
       "      <td>-6.835112</td>\n",
       "      <td>correct</td>\n",
       "    </tr>\n",
       "    <tr>\n",
       "      <th>7</th>\n",
       "      <td>-11.773398</td>\n",
       "      <td>-4.412108</td>\n",
       "      <td>decision</td>\n",
       "    </tr>\n",
       "    <tr>\n",
       "      <th>8</th>\n",
       "      <td>-17.814341</td>\n",
       "      <td>-5.890518</td>\n",
       "      <td>understand</td>\n",
       "    </tr>\n",
       "    <tr>\n",
       "      <th>9</th>\n",
       "      <td>-32.039474</td>\n",
       "      <td>-11.865029</td>\n",
       "      <td>issue</td>\n",
       "    </tr>\n",
       "  </tbody>\n",
       "</table>\n",
       "</div>"
      ],
      "text/plain": [
       "           x          y        word\n",
       "0   3.408856  -3.909420        dont\n",
       "1 -39.261364 -12.356514       think\n",
       "2 -46.412117 -11.238316     patient\n",
       "3  37.998791  12.227210        seem\n",
       "4  -9.732599   0.689811        able\n",
       "5 -43.475597 -11.008735        make\n",
       "6 -12.356521  -6.835112     correct\n",
       "7 -11.773398  -4.412108    decision\n",
       "8 -17.814341  -5.890518  understand\n",
       "9 -32.039474 -11.865029       issue"
      ]
     },
     "execution_count": 13,
     "metadata": {},
     "output_type": "execute_result"
    }
   ],
   "source": [
    "#Retrieving the vocabulary from the 64-dimensional space\n",
    "X_32D=w2v_model[w2v_model.wv.vocab]\n",
    "# Transform the data and load up a Panda dataframe\n",
    "tSNE = TSNE(n_components=2, n_iter=1000)\n",
    "X_2D = tSNE.fit_transform(X_32D)\n",
    "x2D_df = pd.DataFrame(X_2D, columns=['x','y'])\n",
    "x2D_df['word'] = w2v_model.wv.vocab.keys()\n",
    "x2D_df.head(10)"
   ]
  },
  {
   "cell_type": "code",
   "execution_count": 14,
   "metadata": {},
   "outputs": [
    {
     "data": {
      "text/html": [
       "\n",
       "    <div class=\"bk-root\">\n",
       "        <a href=\"https://bokeh.pydata.org\" target=\"_blank\" class=\"bk-logo bk-logo-small bk-logo-notebook\"></a>\n",
       "        <span id=\"c400db79-136b-4dd5-b285-99392a58624d\">Loading BokehJS ...</span>\n",
       "    </div>"
      ]
     },
     "metadata": {},
     "output_type": "display_data"
    },
    {
     "data": {
      "application/javascript": [
       "\n",
       "(function(root) {\n",
       "  function now() {\n",
       "    return new Date();\n",
       "  }\n",
       "\n",
       "  var force = true;\n",
       "\n",
       "  if (typeof (root._bokeh_onload_callbacks) === \"undefined\" || force === true) {\n",
       "    root._bokeh_onload_callbacks = [];\n",
       "    root._bokeh_is_loading = undefined;\n",
       "  }\n",
       "\n",
       "  var JS_MIME_TYPE = 'application/javascript';\n",
       "  var HTML_MIME_TYPE = 'text/html';\n",
       "  var EXEC_MIME_TYPE = 'application/vnd.bokehjs_exec.v0+json';\n",
       "  var CLASS_NAME = 'output_bokeh rendered_html';\n",
       "\n",
       "  /**\n",
       "   * Render data to the DOM node\n",
       "   */\n",
       "  function render(props, node) {\n",
       "    var script = document.createElement(\"script\");\n",
       "    node.appendChild(script);\n",
       "  }\n",
       "\n",
       "  /**\n",
       "   * Handle when an output is cleared or removed\n",
       "   */\n",
       "  function handleClearOutput(event, handle) {\n",
       "    var cell = handle.cell;\n",
       "\n",
       "    var id = cell.output_area._bokeh_element_id;\n",
       "    var server_id = cell.output_area._bokeh_server_id;\n",
       "    // Clean up Bokeh references\n",
       "    if (id !== undefined) {\n",
       "      Bokeh.index[id].model.document.clear();\n",
       "      delete Bokeh.index[id];\n",
       "    }\n",
       "\n",
       "    if (server_id !== undefined) {\n",
       "      // Clean up Bokeh references\n",
       "      var cmd = \"from bokeh.io.state import curstate; print(curstate().uuid_to_server['\" + server_id + \"'].get_sessions()[0].document.roots[0]._id)\";\n",
       "      cell.notebook.kernel.execute(cmd, {\n",
       "        iopub: {\n",
       "          output: function(msg) {\n",
       "            var element_id = msg.content.text.trim();\n",
       "            Bokeh.index[element_id].model.document.clear();\n",
       "            delete Bokeh.index[element_id];\n",
       "          }\n",
       "        }\n",
       "      });\n",
       "      // Destroy server and session\n",
       "      var cmd = \"import bokeh.io.notebook as ion; ion.destroy_server('\" + server_id + \"')\";\n",
       "      cell.notebook.kernel.execute(cmd);\n",
       "    }\n",
       "  }\n",
       "\n",
       "  /**\n",
       "   * Handle when a new output is added\n",
       "   */\n",
       "  function handleAddOutput(event, handle) {\n",
       "    var output_area = handle.output_area;\n",
       "    var output = handle.output;\n",
       "\n",
       "    // limit handleAddOutput to display_data with EXEC_MIME_TYPE content only\n",
       "    if ((output.output_type != \"display_data\") || (!output.data.hasOwnProperty(EXEC_MIME_TYPE))) {\n",
       "      return\n",
       "    }\n",
       "\n",
       "    var toinsert = output_area.element.find(`.${CLASS_NAME.split(' ')[0]}`);\n",
       "\n",
       "    if (output.metadata[EXEC_MIME_TYPE][\"id\"] !== undefined) {\n",
       "      toinsert[0].firstChild.textContent = output.data[JS_MIME_TYPE];\n",
       "      // store reference to embed id on output_area\n",
       "      output_area._bokeh_element_id = output.metadata[EXEC_MIME_TYPE][\"id\"];\n",
       "    }\n",
       "    if (output.metadata[EXEC_MIME_TYPE][\"server_id\"] !== undefined) {\n",
       "      var bk_div = document.createElement(\"div\");\n",
       "      bk_div.innerHTML = output.data[HTML_MIME_TYPE];\n",
       "      var script_attrs = bk_div.children[0].attributes;\n",
       "      for (var i = 0; i < script_attrs.length; i++) {\n",
       "        toinsert[0].firstChild.setAttribute(script_attrs[i].name, script_attrs[i].value);\n",
       "      }\n",
       "      // store reference to server id on output_area\n",
       "      output_area._bokeh_server_id = output.metadata[EXEC_MIME_TYPE][\"server_id\"];\n",
       "    }\n",
       "  }\n",
       "\n",
       "  function register_renderer(events, OutputArea) {\n",
       "\n",
       "    function append_mime(data, metadata, element) {\n",
       "      // create a DOM node to render to\n",
       "      var toinsert = this.create_output_subarea(\n",
       "        metadata,\n",
       "        CLASS_NAME,\n",
       "        EXEC_MIME_TYPE\n",
       "      );\n",
       "      this.keyboard_manager.register_events(toinsert);\n",
       "      // Render to node\n",
       "      var props = {data: data, metadata: metadata[EXEC_MIME_TYPE]};\n",
       "      render(props, toinsert[0]);\n",
       "      element.append(toinsert);\n",
       "      return toinsert\n",
       "    }\n",
       "\n",
       "    /* Handle when an output is cleared or removed */\n",
       "    events.on('clear_output.CodeCell', handleClearOutput);\n",
       "    events.on('delete.Cell', handleClearOutput);\n",
       "\n",
       "    /* Handle when a new output is added */\n",
       "    events.on('output_added.OutputArea', handleAddOutput);\n",
       "\n",
       "    /**\n",
       "     * Register the mime type and append_mime function with output_area\n",
       "     */\n",
       "    OutputArea.prototype.register_mime_type(EXEC_MIME_TYPE, append_mime, {\n",
       "      /* Is output safe? */\n",
       "      safe: true,\n",
       "      /* Index of renderer in `output_area.display_order` */\n",
       "      index: 0\n",
       "    });\n",
       "  }\n",
       "\n",
       "  // register the mime type if in Jupyter Notebook environment and previously unregistered\n",
       "  if (root.Jupyter !== undefined) {\n",
       "    var events = require('base/js/events');\n",
       "    var OutputArea = require('notebook/js/outputarea').OutputArea;\n",
       "\n",
       "    if (OutputArea.prototype.mime_types().indexOf(EXEC_MIME_TYPE) == -1) {\n",
       "      register_renderer(events, OutputArea);\n",
       "    }\n",
       "  }\n",
       "\n",
       "  \n",
       "  if (typeof (root._bokeh_timeout) === \"undefined\" || force === true) {\n",
       "    root._bokeh_timeout = Date.now() + 5000;\n",
       "    root._bokeh_failed_load = false;\n",
       "  }\n",
       "\n",
       "  var NB_LOAD_WARNING = {'data': {'text/html':\n",
       "     \"<div style='background-color: #fdd'>\\n\"+\n",
       "     \"<p>\\n\"+\n",
       "     \"BokehJS does not appear to have successfully loaded. If loading BokehJS from CDN, this \\n\"+\n",
       "     \"may be due to a slow or bad network connection. Possible fixes:\\n\"+\n",
       "     \"</p>\\n\"+\n",
       "     \"<ul>\\n\"+\n",
       "     \"<li>re-rerun `output_notebook()` to attempt to load from CDN again, or</li>\\n\"+\n",
       "     \"<li>use INLINE resources instead, as so:</li>\\n\"+\n",
       "     \"</ul>\\n\"+\n",
       "     \"<code>\\n\"+\n",
       "     \"from bokeh.resources import INLINE\\n\"+\n",
       "     \"output_notebook(resources=INLINE)\\n\"+\n",
       "     \"</code>\\n\"+\n",
       "     \"</div>\"}};\n",
       "\n",
       "  function display_loaded() {\n",
       "    var el = document.getElementById(\"c400db79-136b-4dd5-b285-99392a58624d\");\n",
       "    if (el != null) {\n",
       "      el.textContent = \"BokehJS is loading...\";\n",
       "    }\n",
       "    if (root.Bokeh !== undefined) {\n",
       "      if (el != null) {\n",
       "        el.textContent = \"BokehJS \" + root.Bokeh.version + \" successfully loaded.\";\n",
       "      }\n",
       "    } else if (Date.now() < root._bokeh_timeout) {\n",
       "      setTimeout(display_loaded, 100)\n",
       "    }\n",
       "  }\n",
       "\n",
       "\n",
       "  function run_callbacks() {\n",
       "    try {\n",
       "      root._bokeh_onload_callbacks.forEach(function(callback) { callback() });\n",
       "    }\n",
       "    finally {\n",
       "      delete root._bokeh_onload_callbacks\n",
       "    }\n",
       "    console.info(\"Bokeh: all callbacks have finished\");\n",
       "  }\n",
       "\n",
       "  function load_libs(js_urls, callback) {\n",
       "    root._bokeh_onload_callbacks.push(callback);\n",
       "    if (root._bokeh_is_loading > 0) {\n",
       "      console.log(\"Bokeh: BokehJS is being loaded, scheduling callback at\", now());\n",
       "      return null;\n",
       "    }\n",
       "    if (js_urls == null || js_urls.length === 0) {\n",
       "      run_callbacks();\n",
       "      return null;\n",
       "    }\n",
       "    console.log(\"Bokeh: BokehJS not loaded, scheduling load and callback at\", now());\n",
       "    root._bokeh_is_loading = js_urls.length;\n",
       "    for (var i = 0; i < js_urls.length; i++) {\n",
       "      var url = js_urls[i];\n",
       "      var s = document.createElement('script');\n",
       "      s.src = url;\n",
       "      s.async = false;\n",
       "      s.onreadystatechange = s.onload = function() {\n",
       "        root._bokeh_is_loading--;\n",
       "        if (root._bokeh_is_loading === 0) {\n",
       "          console.log(\"Bokeh: all BokehJS libraries loaded\");\n",
       "          run_callbacks()\n",
       "        }\n",
       "      };\n",
       "      s.onerror = function() {\n",
       "        console.warn(\"failed to load library \" + url);\n",
       "      };\n",
       "      console.log(\"Bokeh: injecting script tag for BokehJS library: \", url);\n",
       "      document.getElementsByTagName(\"head\")[0].appendChild(s);\n",
       "    }\n",
       "  };var element = document.getElementById(\"c400db79-136b-4dd5-b285-99392a58624d\");\n",
       "  if (element == null) {\n",
       "    console.log(\"Bokeh: ERROR: autoload.js configured with elementid 'c400db79-136b-4dd5-b285-99392a58624d' but no matching script tag was found. \")\n",
       "    return false;\n",
       "  }\n",
       "\n",
       "  var js_urls = [\"https://cdn.pydata.org/bokeh/release/bokeh-0.12.10.min.js\", \"https://cdn.pydata.org/bokeh/release/bokeh-widgets-0.12.10.min.js\", \"https://cdn.pydata.org/bokeh/release/bokeh-tables-0.12.10.min.js\", \"https://cdn.pydata.org/bokeh/release/bokeh-gl-0.12.10.min.js\"];\n",
       "\n",
       "  var inline_js = [\n",
       "    function(Bokeh) {\n",
       "      Bokeh.set_log_level(\"info\");\n",
       "    },\n",
       "    \n",
       "    function(Bokeh) {\n",
       "      \n",
       "    },\n",
       "    function(Bokeh) {\n",
       "      console.log(\"Bokeh: injecting CSS: https://cdn.pydata.org/bokeh/release/bokeh-0.12.10.min.css\");\n",
       "      Bokeh.embed.inject_css(\"https://cdn.pydata.org/bokeh/release/bokeh-0.12.10.min.css\");\n",
       "      console.log(\"Bokeh: injecting CSS: https://cdn.pydata.org/bokeh/release/bokeh-widgets-0.12.10.min.css\");\n",
       "      Bokeh.embed.inject_css(\"https://cdn.pydata.org/bokeh/release/bokeh-widgets-0.12.10.min.css\");\n",
       "      console.log(\"Bokeh: injecting CSS: https://cdn.pydata.org/bokeh/release/bokeh-tables-0.12.10.min.css\");\n",
       "      Bokeh.embed.inject_css(\"https://cdn.pydata.org/bokeh/release/bokeh-tables-0.12.10.min.css\");\n",
       "    }\n",
       "  ];\n",
       "\n",
       "  function run_inline_js() {\n",
       "    \n",
       "    if ((root.Bokeh !== undefined) || (force === true)) {\n",
       "      for (var i = 0; i < inline_js.length; i++) {\n",
       "        inline_js[i].call(root, root.Bokeh);\n",
       "      }if (force === true) {\n",
       "        display_loaded();\n",
       "      }} else if (Date.now() < root._bokeh_timeout) {\n",
       "      setTimeout(run_inline_js, 100);\n",
       "    } else if (!root._bokeh_failed_load) {\n",
       "      console.log(\"Bokeh: BokehJS failed to load within specified timeout.\");\n",
       "      root._bokeh_failed_load = true;\n",
       "    } else if (force !== true) {\n",
       "      var cell = $(document.getElementById(\"c400db79-136b-4dd5-b285-99392a58624d\")).parents('.cell').data().cell;\n",
       "      cell.output_area.append_execute_result(NB_LOAD_WARNING)\n",
       "    }\n",
       "\n",
       "  }\n",
       "\n",
       "  if (root._bokeh_is_loading === 0) {\n",
       "    console.log(\"Bokeh: BokehJS loaded, going straight to plotting\");\n",
       "    run_inline_js();\n",
       "  } else {\n",
       "    load_libs(js_urls, function() {\n",
       "      console.log(\"Bokeh: BokehJS plotting callback run at\", now());\n",
       "      run_inline_js();\n",
       "    });\n",
       "  }\n",
       "}(window));"
      ],
      "application/vnd.bokehjs_load.v0+json": "\n(function(root) {\n  function now() {\n    return new Date();\n  }\n\n  var force = true;\n\n  if (typeof (root._bokeh_onload_callbacks) === \"undefined\" || force === true) {\n    root._bokeh_onload_callbacks = [];\n    root._bokeh_is_loading = undefined;\n  }\n\n  \n\n  \n  if (typeof (root._bokeh_timeout) === \"undefined\" || force === true) {\n    root._bokeh_timeout = Date.now() + 5000;\n    root._bokeh_failed_load = false;\n  }\n\n  var NB_LOAD_WARNING = {'data': {'text/html':\n     \"<div style='background-color: #fdd'>\\n\"+\n     \"<p>\\n\"+\n     \"BokehJS does not appear to have successfully loaded. If loading BokehJS from CDN, this \\n\"+\n     \"may be due to a slow or bad network connection. Possible fixes:\\n\"+\n     \"</p>\\n\"+\n     \"<ul>\\n\"+\n     \"<li>re-rerun `output_notebook()` to attempt to load from CDN again, or</li>\\n\"+\n     \"<li>use INLINE resources instead, as so:</li>\\n\"+\n     \"</ul>\\n\"+\n     \"<code>\\n\"+\n     \"from bokeh.resources import INLINE\\n\"+\n     \"output_notebook(resources=INLINE)\\n\"+\n     \"</code>\\n\"+\n     \"</div>\"}};\n\n  function display_loaded() {\n    var el = document.getElementById(\"c400db79-136b-4dd5-b285-99392a58624d\");\n    if (el != null) {\n      el.textContent = \"BokehJS is loading...\";\n    }\n    if (root.Bokeh !== undefined) {\n      if (el != null) {\n        el.textContent = \"BokehJS \" + root.Bokeh.version + \" successfully loaded.\";\n      }\n    } else if (Date.now() < root._bokeh_timeout) {\n      setTimeout(display_loaded, 100)\n    }\n  }\n\n\n  function run_callbacks() {\n    try {\n      root._bokeh_onload_callbacks.forEach(function(callback) { callback() });\n    }\n    finally {\n      delete root._bokeh_onload_callbacks\n    }\n    console.info(\"Bokeh: all callbacks have finished\");\n  }\n\n  function load_libs(js_urls, callback) {\n    root._bokeh_onload_callbacks.push(callback);\n    if (root._bokeh_is_loading > 0) {\n      console.log(\"Bokeh: BokehJS is being loaded, scheduling callback at\", now());\n      return null;\n    }\n    if (js_urls == null || js_urls.length === 0) {\n      run_callbacks();\n      return null;\n    }\n    console.log(\"Bokeh: BokehJS not loaded, scheduling load and callback at\", now());\n    root._bokeh_is_loading = js_urls.length;\n    for (var i = 0; i < js_urls.length; i++) {\n      var url = js_urls[i];\n      var s = document.createElement('script');\n      s.src = url;\n      s.async = false;\n      s.onreadystatechange = s.onload = function() {\n        root._bokeh_is_loading--;\n        if (root._bokeh_is_loading === 0) {\n          console.log(\"Bokeh: all BokehJS libraries loaded\");\n          run_callbacks()\n        }\n      };\n      s.onerror = function() {\n        console.warn(\"failed to load library \" + url);\n      };\n      console.log(\"Bokeh: injecting script tag for BokehJS library: \", url);\n      document.getElementsByTagName(\"head\")[0].appendChild(s);\n    }\n  };var element = document.getElementById(\"c400db79-136b-4dd5-b285-99392a58624d\");\n  if (element == null) {\n    console.log(\"Bokeh: ERROR: autoload.js configured with elementid 'c400db79-136b-4dd5-b285-99392a58624d' but no matching script tag was found. \")\n    return false;\n  }\n\n  var js_urls = [\"https://cdn.pydata.org/bokeh/release/bokeh-0.12.10.min.js\", \"https://cdn.pydata.org/bokeh/release/bokeh-widgets-0.12.10.min.js\", \"https://cdn.pydata.org/bokeh/release/bokeh-tables-0.12.10.min.js\", \"https://cdn.pydata.org/bokeh/release/bokeh-gl-0.12.10.min.js\"];\n\n  var inline_js = [\n    function(Bokeh) {\n      Bokeh.set_log_level(\"info\");\n    },\n    \n    function(Bokeh) {\n      \n    },\n    function(Bokeh) {\n      console.log(\"Bokeh: injecting CSS: https://cdn.pydata.org/bokeh/release/bokeh-0.12.10.min.css\");\n      Bokeh.embed.inject_css(\"https://cdn.pydata.org/bokeh/release/bokeh-0.12.10.min.css\");\n      console.log(\"Bokeh: injecting CSS: https://cdn.pydata.org/bokeh/release/bokeh-widgets-0.12.10.min.css\");\n      Bokeh.embed.inject_css(\"https://cdn.pydata.org/bokeh/release/bokeh-widgets-0.12.10.min.css\");\n      console.log(\"Bokeh: injecting CSS: https://cdn.pydata.org/bokeh/release/bokeh-tables-0.12.10.min.css\");\n      Bokeh.embed.inject_css(\"https://cdn.pydata.org/bokeh/release/bokeh-tables-0.12.10.min.css\");\n    }\n  ];\n\n  function run_inline_js() {\n    \n    if ((root.Bokeh !== undefined) || (force === true)) {\n      for (var i = 0; i < inline_js.length; i++) {\n        inline_js[i].call(root, root.Bokeh);\n      }if (force === true) {\n        display_loaded();\n      }} else if (Date.now() < root._bokeh_timeout) {\n      setTimeout(run_inline_js, 100);\n    } else if (!root._bokeh_failed_load) {\n      console.log(\"Bokeh: BokehJS failed to load within specified timeout.\");\n      root._bokeh_failed_load = true;\n    } else if (force !== true) {\n      var cell = $(document.getElementById(\"c400db79-136b-4dd5-b285-99392a58624d\")).parents('.cell').data().cell;\n      cell.output_area.append_execute_result(NB_LOAD_WARNING)\n    }\n\n  }\n\n  if (root._bokeh_is_loading === 0) {\n    console.log(\"Bokeh: BokehJS loaded, going straight to plotting\");\n    run_inline_js();\n  } else {\n    load_libs(js_urls, function() {\n      console.log(\"Bokeh: BokehJS plotting callback run at\", now());\n      run_inline_js();\n    });\n  }\n}(window));"
     },
     "metadata": {},
     "output_type": "display_data"
    }
   ],
   "source": [
    "# Configure the notebook to generate graph in a cell\n",
    "# Always call this method before any visualization\n",
    "output_notebook()"
   ]
  },
  {
   "cell_type": "code",
   "execution_count": 15,
   "metadata": {},
   "outputs": [
    {
     "data": {
      "text/html": [
       "\n",
       "<div class=\"bk-root\">\n",
       "    <div class=\"bk-plotdiv\" id=\"799246b5-df5e-487d-8881-97b177348b0f\"></div>\n",
       "</div>"
      ]
     },
     "metadata": {},
     "output_type": "display_data"
    },
    {
     "data": {
      "application/javascript": [
       "(function(root) {\n",
       "  function embed_document(root) {\n",
       "    var docs_json = {\"91d6550c-eb52-478e-9e36-760437d836b5\":{\"roots\":{\"references\":[{\"attributes\":{\"formatter\":{\"id\":\"5355f887-3da0-49f8-b06e-668bdb615a91\",\"type\":\"BasicTickFormatter\"},\"plot\":{\"id\":\"5d7ed1f5-91da-4fed-8c35-a6cdd973b176\",\"subtype\":\"Figure\",\"type\":\"Plot\"},\"ticker\":{\"id\":\"faae2a2a-010e-4795-83dc-35058ce777d9\",\"type\":\"BasicTicker\"}},\"id\":\"ce31508e-f3d5-4ddf-bf4e-7fe60b97a6ab\",\"type\":\"LinearAxis\"},{\"attributes\":{\"formatter\":{\"id\":\"0b465f87-c985-4b73-8854-8b253864a1e7\",\"type\":\"BasicTickFormatter\"},\"plot\":{\"id\":\"5d7ed1f5-91da-4fed-8c35-a6cdd973b176\",\"subtype\":\"Figure\",\"type\":\"Plot\"},\"ticker\":{\"id\":\"df0fec2e-deb7-43c7-9fef-f0dc99f15fe4\",\"type\":\"BasicTicker\"}},\"id\":\"4da4e6f5-eab2-4cf5-b479-9591ef25d1cf\",\"type\":\"LinearAxis\"},{\"attributes\":{\"plot\":{\"id\":\"5d7ed1f5-91da-4fed-8c35-a6cdd973b176\",\"subtype\":\"Figure\",\"type\":\"Plot\"},\"ticker\":{\"id\":\"df0fec2e-deb7-43c7-9fef-f0dc99f15fe4\",\"type\":\"BasicTicker\"}},\"id\":\"72756e6a-4cca-46ec-8687-a5a60139eaed\",\"type\":\"Grid\"},{\"attributes\":{\"text_alpha\":{\"value\":0.1},\"text_color\":{\"value\":\"black\"},\"x\":{\"field\":\"x\"},\"y\":{\"field\":\"y\"}},\"id\":\"35872f8b-22e8-4615-9a1c-7b74e688a869\",\"type\":\"Text\"},{\"attributes\":{},\"id\":\"0b465f87-c985-4b73-8854-8b253864a1e7\",\"type\":\"BasicTickFormatter\"},{\"attributes\":{\"callback\":null,\"column_names\":[\"x\",\"y\",\"text\"],\"data\":{\"text\":[\"dont\",\"think\",\"patient\",\"seem\",\"able\",\"make\",\"correct\",\"decision\",\"understand\",\"issue\",\"word\",\"appropriate\",\"symptom\",\"mentioned\",\"bladder\",\"similar\",\"type\",\"difficult\",\"diagnose\",\"common\",\"condition\",\"series\",\"occur\",\"agree\",\"partially\",\"even\",\"provider\",\"likely\",\"alpha\",\"blocker\",\"full\",\"review\",\"inappropriate\",\"take\",\"tamsulosin\",\"main\",\"going\",\"whether\",\"data\",\"adequate\",\"demonstrate\",\"people\",\"diagnosed\",\"already\",\"comorbid\",\"hydrochloride\",\"diagnosis\",\"show\",\"drug\",\"delay\",\"long\",\"enough\",\"result\",\"adverse\",\"consequence\",\"acceptable\",\"really\",\"guess\",\"underlying\",\"comorbidity\",\"individual\",\"taking\",\"medication\",\"certain\",\"might\",\"specifically\",\"med\",\"increase\",\"risk\",\"seems\",\"like\",\"small\",\"number\",\"something\",\"raise\",\"including\",\"antihypertensive\",\"higher\",\"study\",\"would\",\"concern\",\"clear\",\"wording\",\"question\",\"assuming\",\"could\",\"also\",\"trying\",\"treat\",\"thus\",\"real\",\"treated\",\"effect\",\"urinary\",\"tract\",\"listed\",\"product\",\"address\",\"last\",\"item\",\"many\",\"present\",\"frequency\",\"diuretic\",\"together\",\"medical\",\"point\",\"mitigate\",\"found\",\"actual\",\"evaluation\",\"month\",\"currently\",\"absolute\",\"contraindication\",\"giving\",\"given\",\"otcs\",\"know\",\"known\",\"recognize\",\"need\",\"talk\",\"physician\",\"additional\",\"treatment\",\"needed\",\"actually\",\"state\",\"doctor\",\"different\",\"consider\",\"using\",\"encourage\",\"maybe\",\"important\",\"raised\",\"year\",\"potential\",\"consumer\",\"back\",\"answer\",\"hard\",\"measure\",\"company\",\"recommend\",\"argument\",\"possible\",\"package\",\"insert\",\"done\",\"regarding\",\"practice\",\"prescribe\",\"often\",\"current\",\"environment\",\"trial\",\"week\",\"without\",\"speak\",\"luts/bph\",\"group\",\"probably\",\"guideline\",\"provide\",\"test\",\"prior\",\"prescribing\",\"perhaps\",\"indicated\",\"basis\",\"much\",\"longer\",\"example\",\"tell\",\"least\",\"time\",\"pcp\",\"medicine\",\"help\",\"and/or\",\"event\",\"occurs\",\"stop\",\"reply\",\"claus\",\"alphabs\",\"standard\",\"care\",\"include\",\"discussion\",\"e.g.\",\"good\",\"proposed\",\"period\",\"labeling\",\"pharmacy\",\"info\",\"believe\",\"available\",\"us\",\"'trial\",\"label\",\"well\",\"improvement\",\"language\",\"call\",\"problem\",\"benefit\",\"continue\",\"thinking\",\"difference\",\"happens\",\"population\",\"typical\",\"compare\",\"regard\",\"daenerys\",\"comment\",\"demographic\",\"rate\",\"reason\",\"seek\",\"visit\",\"better\",\"team\",\"used\",\"experience\",\"support\",\"otcness\",\"process\",\"hence\",\"seeing\",\"information\",\"along\",\"line\",\"gregor\",\"behavior\",\"setting\",\"risk/benefit\",\"ratio\",\"helpful\",\"part\",\"advisory\",\"committee\",\"algorithm\",\"rather\",\"list\",\"self\",\"approach\",\"work\",\"interaction\",\"specific\",\"approved\",\"understood\",\"evidence\",\"comprehension\",\"context\",\"stated\",\"selection\",\"self-selection\",\"interesting\",\"focus\",\"always\",\"indication\",\"right\",\"still\",\"favor\",\"want\",\"especially\",\"one\",\"taken\",\"sponsor\",\"case\",\"coping\",\"plus\",\"demonstrated\",\"drive\",\"likelihood\",\"option\",\"research\",\"factor\",\"retention\",\"little\",\"incidence\",\"based\",\"luts\",\"high\",\"note\",\"prostate\",\"cancer\",\"undiagnosed\",\"medically\",\"significant\",\"translate\",\"missed\",\"causing\",\"cause\",\"rare\",\"build\",\"date\",\"public\",\"saying\",\"though\",\"since\",\"view\",\"misdiagnosis\",\"testing\",\"agency\",\"choose\",\"regular\",\"another\",\"serious\",\"concerned\",\"diabetes\",\"lead\",\"fairly\",\"idea\",\"frequently\",\"disease\",\"first\",\"urologist\",\"wade\",\"assessment\",\"subject\",\"abnormal\",\"urine\",\"dipstick\",\"finding\",\"fact\",\"within\",\"blog\",\"suggest\",\"safety\",\"importance\",\"agreed\",\"upon\",\"definition\",\"untreated\",\"pathology\",\"reflects\",\"program\",\"position\",\"perspective\",\"member\",\"said\",\"official\",\"seen\",\"handle\",\"thing\",\"deal\",\"short\",\"change\",\"term\",\"outcome\",\"distribution\",\"clinical\",\"defined\",\"best\",\"conduct\",\"survey\",\"chronic\",\"prostatitis\",\"seeking\",\"easily\",\"expectation\",\"expect\",\"urinating\",\"concomitant\",\"bph/luts\",\"relief\",\"bother\",\"getting\",\"discus\",\"leave\",\"general\",\"suggesting\",\"noted\",\"warning\",\"section\",\"screening\",\"presence\",\"capsule\",\"interval\",\"large\",\"purchase\",\"le\",\"association\",\"symptomatic\",\"benign\",\"prostatic\",\"hyperplasia\",\"detected\",\"severe\",\"analysis\",\"baseline\",\"prevalent\",\"associated\",\"lifestyle\",\"simple\",\"health\",\"limited\",\"conducted\",\"reading\",\"cant\",\"correctly\",\"rest\",\"unnecessary\",\"called\",\"relevant\",\"history\",\"sign\",\"identify\",\"response\",\"sample\",\"ass\",\"told\",\"advice\",\"included\",\"missing\",\"ability\",\"blood\",\"read\",\"mean\",\"appears\",\"feel\",\"come\",\"okay\",\"determine\",\"user\",\"necessary\",\"tested\",\"inclusion\",\"away\",\"however\",\"criterion\",\"exclusion\",\"normal\",\"heart\",\"therapy\",\"cardiovascular\",\"fatal\",\"older\",\"marketing\",\"healthcare\",\"professional\",\"form\",\"contact\",\"happen\",\"death\",\"select\",\"mild\",\"conclusion\",\"explained\",\"search\",\"internal\",\"relationship\",\"circumstance\",\"statement\",\"opinion\",\"duration\",\"related\",\"enlarged\",\"reliever\",\"drogo\",\"urology\",\"foundation\",\"education\",\"page\",\"painful\",\"frequent\",\"treating\",\"lower\",\"phrase\",\"person\",\"decade\",\"woman\",\"pain\",\"urinate\",\"size\",\"bothersome\",\"purpose\",\"caused\",\"description\",\"andrea\",\"look\",\"mayo\",\"starting\",\"stopping\",\"storage\",\"distinguish\",\"wrong\",\"milder\",\"switch\",\"allow\",\"self-diagnosis\",\"chosen\",\"difficulty\",\"three\",\"colleague\",\"error\",\"relate\",\"extreme\",\"asking\",\"expert\",\"scenario\",\"potentially\",\"claim\",\"abstract\",\"excluded\",\"olmsted\",\"county\",\"surgery\",\"bullet\",\"formatting\",\"infection\",\"alert\",\"liver\",\"kidney\"],\"x\":{\"__ndarray__\":\"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\",\"dtype\":\"float32\",\"shape\":[520]},\"y\":{\"__ndarray__\":\"7jN6wEi0RcEk0DPBp6JDQW2XMD/HIzDBPLnawP4vjcAgf7zAKdc9wcV5eL97XT/AT0UpwaOrQsH2Nj7B7rgAPwmkLcG2+0zAqP9Wv80vLsEgzzfBAh1LQartHsEuqdS/pMrmP0CUKsGNTU5BL/JHwfllKL8J8xdAL9nUPiZXQEHxo1dBUY07wY0rQ8GqGitBGq0wwUJ4J8HT3DjBVUfrwHf5i78ra1PAkbzUv5JkPMHg9NU9FLsywZrQT8FfHirAwME4wUM6OsE+HQ/Bew5EwckJ27+FBZFA8HYCQQ/eMUBtTC3BQok4QeoyQcEWZKtAMsMLwXJrFMGCmg3AyogawQJnR8HZPWxBUq42QYQvKEAsijzB74IFwZzZLcFnAhLAw8khwfyFtMAGYxBBFua/wFdOHUF+bw1BnKs+waC1M8HukT/Be/++QLzD8b4kxz7Bv4xiQVqCMsH7AkHBLtMhwCMwI8EYj2BAUWW8wBSCkMAzooNBSF9CwWbTqL6Z6sk+TIA6wcxfxr6VM9NAPK9pQBlOTMF3icI/BtvewBVadEFD/qnAdkorwcsSyMCIAjnAQNaSQBZkIcFZTJe/FMkzweWgtUBiOpo/DakcwZjDQ0GguKLAwWtnQXXdTcFjRuk/o9Q1QTaXP8H2sPO/m5hAwSmMAr8qJFHBbacpwVNVDsHNj0K/6SI7wa8Oh8AR9iHB8Kw6wXHYTsDPYl1BXW4MwQdPT0FnHAbBzR6xv94uN8F2Sl0//dgdvDIIV8Ad1hVAJWpOwVa/R8C58yvBa+sXwCuUUsAX0vjAG/KYPgQNOsDPdzzBm4GDQVb4xMBfD+rAfTvwQHe5IcHtzy3B6wT0wLL+tD9pbjNBcvbywC4V+kBiVXhAh7IbwXFeQkCuiD7B5vxFwOw2NMEMLk9BbY1vQb9eNsGq8gxBVo27QAZ7OUFnyl8+DmILwVUlZ0FBUwLBbaMpwVrW/76LO03B+gYSQO9/IcHCcBVBeLhFwN58sj66VTXBnq8zwQkSQkATEDPB1ojUQPvEH8ExywM+XMbVQLtbKcGQ+5BAcQieQK9KP8CrOqXAFYJYQek/c0GTOELBJz4qwYhVMkAUtNfAbHwxQX1U+sC9kUDBjM8jQcZBd0Gb4m5BJexxQTWTJMG/iPdAH2OZQNB3SEEjJ1ZBbaRGwas9PkF1jwfBIocvwZU0xUCy1bVA2MCYwCqSbkFDUDbBZy4EwXZYDMFqa7m/B5K9vmCpIUEl2ZTApQjxwB6860Dcsd6/OZ+nvIGDxr7h2YXAGpUKQbz98b9oFijBtKbswMlZL8D72g1A9IUlwFMjCsDmPTPBX7PHQIcE+b+xY+i/kNv0QFCaQ8GVsezA1aoHQTXicUHqESy/iB1CQQTMhUBk13ZAVWZKweMp7kDRw1Q/N0CKQHjPS8E1ETrB1fEBwUG6H0ECaorAHToIwTVzk0ArUnZAq62vQFC2QsFCFqU/FiEuQDxkXkFadOfA8xh6Pz6N7z1NKH9Ae4IrQUtdBMHUJIW+FqcFQXbpk8AWFijBUx/4QOocxbzkajPBoDhJwZYxhsBQ+RK/su88wXYAT0BzTj9AHVgTQecrQsFsOGdBhDwvQDKl80BXYNc/NIhlwM+UEUH+gLrAHRiUPexGs74mb/9Ag3k8weqEpEAu3bxA3FpMQR5/xcAKK2tByTNDwQdpWkHJ9R9Bkb1QQaMd6kABITjBY2F9QNLSp0BauBVBq2ZLQfpHLsFj4WpAikowwTlBGMHB97TAjcXiwF7EQEGUFl1BOgXEQDpdXsDRIztA0QoKQfQ2EkEloDo/k7eaQIeYiUCZBh9BryWLv9GUZ0FZxFVBuIqRQA5k678YyzRBDpA4QR+aPUG/6GhBRpB9wKwd+EAWzT7BzztawIb5JkEYwDZByBocwf0WCkEd7C7Bu2AoQeWlUUHKsQO9SC3rQAVKeUFd2KO+g2FDQZH5GEEICmJBxCBOQRNxTEDxMYzAcrGMv2a0v8AOHuhAjbhFQerMD8GbFC1Bz8CwQEBoNMEcPkfBnDsGQCABpL/kDBc/4LduQLW4xEAoNidA6M14QMeR4j/uuyJBGKlEwSE6OcHBITLBZ+C5PoekE8HpqkVAp1nfwDdHtb8kzzHB+Z/3QPVTUkHOBkzBd8FQQLGXG0Ehh35BfhU3QbEDZ0APbdZA051aQPX9iEDld1RBwMPWP0m20r/xWS1BGbJzP0BOf0D1GgvAK2NHQOrH+kDaQYnA3VSRvykcmkD87zbAOQ6RwFpUBsGIMXhATM7Ev/75C0GsXIFApkWVwOKkIEEx205BHqlSwKVO0L+ydwdAlHh8wMB7HcHykzDBacP4QAz7lMCac1dBZUlNP8zqHEF8bhZBLpe1v8gjAkBO3i7Ar5KDwOrcOEFHcDRB4Vg6wX8vj0ATkGtBixSeQFa3BUEFOApBtZjrP0MaEr4VEfVALfEqQTvdKUFiIiI+KMr+wL3aI8EXIzM+9JRpQUnOPEFdcMk/1z9pwEUl5T+awmpB/zXNPX9FMEDpIwnBJD8bQCoRR0GPH+o/dAEHQDAM28CIdDzBKsgBQfxKVkHKH6W/xU2WwLxYAEF34+NAeSuawCcLGEDm6K5APg+2Pn4hekFwrhlB3j0qQA6BAcAhEBHBoeqAvwzMrUAaFFDAeimpPz74NkGGZ01B1oVAwdGhfkFD0+y/l2FLv4DYMsGN7JtA95U0v/IwD0GL6MVAOWmXwHhdEsBAtPq/AqEUwcAxmD/464RBC9+nwOSpCj/+Z2nA+JfrwA==\",\"dtype\":\"float32\",\"shape\":[520]}}},\"id\":\"8bf296fa-f1fa-4e28-a17c-3b8a9e10df9b\",\"type\":\"ColumnDataSource\"},{\"attributes\":{\"dimension\":1,\"plot\":{\"id\":\"5d7ed1f5-91da-4fed-8c35-a6cdd973b176\",\"subtype\":\"Figure\",\"type\":\"Plot\"},\"ticker\":{\"id\":\"faae2a2a-010e-4795-83dc-35058ce777d9\",\"type\":\"BasicTicker\"}},\"id\":\"e8b70aef-208b-43d7-aab5-7d5e028ae210\",\"type\":\"Grid\"},{\"attributes\":{\"bottom_units\":\"screen\",\"fill_alpha\":{\"value\":0.5},\"fill_color\":{\"value\":\"lightgrey\"},\"left_units\":\"screen\",\"level\":\"overlay\",\"line_alpha\":{\"value\":1.0},\"line_color\":{\"value\":\"black\"},\"line_dash\":[4,4],\"line_width\":{\"value\":2},\"plot\":null,\"render_mode\":\"css\",\"right_units\":\"screen\",\"top_units\":\"screen\"},\"id\":\"db769038-6e1d-4669-b9ff-22097433a004\",\"type\":\"BoxAnnotation\"},{\"attributes\":{\"callback\":null},\"id\":\"53bc77bd-b731-41a3-88c4-9332f7541b30\",\"type\":\"DataRange1d\"},{\"attributes\":{\"overlay\":{\"id\":\"db769038-6e1d-4669-b9ff-22097433a004\",\"type\":\"BoxAnnotation\"}},\"id\":\"3d608eb4-bfac-4f9d-a5ae-d55fea5e73bb\",\"type\":\"BoxZoomTool\"},{\"attributes\":{\"callback\":null},\"id\":\"62664a57-150b-4138-8fbf-ff0dc3d00aa4\",\"type\":\"DataRange1d\"},{\"attributes\":{},\"id\":\"4441df66-829a-43f4-9056-96108a09517c\",\"type\":\"ResetTool\"},{\"attributes\":{},\"id\":\"82f7b242-3a91-4b43-9868-a8a8c45a3898\",\"type\":\"LinearScale\"},{\"attributes\":{},\"id\":\"944ce84e-e303-4f77-bb5b-b6a136b2c052\",\"type\":\"LinearScale\"},{\"attributes\":{},\"id\":\"df0fec2e-deb7-43c7-9fef-f0dc99f15fe4\",\"type\":\"BasicTicker\"},{\"attributes\":{\"below\":[{\"id\":\"4da4e6f5-eab2-4cf5-b479-9591ef25d1cf\",\"type\":\"LinearAxis\"}],\"left\":[{\"id\":\"ce31508e-f3d5-4ddf-bf4e-7fe60b97a6ab\",\"type\":\"LinearAxis\"}],\"plot_height\":800,\"plot_width\":800,\"renderers\":[{\"id\":\"4da4e6f5-eab2-4cf5-b479-9591ef25d1cf\",\"type\":\"LinearAxis\"},{\"id\":\"72756e6a-4cca-46ec-8687-a5a60139eaed\",\"type\":\"Grid\"},{\"id\":\"ce31508e-f3d5-4ddf-bf4e-7fe60b97a6ab\",\"type\":\"LinearAxis\"},{\"id\":\"e8b70aef-208b-43d7-aab5-7d5e028ae210\",\"type\":\"Grid\"},{\"id\":\"db769038-6e1d-4669-b9ff-22097433a004\",\"type\":\"BoxAnnotation\"},{\"id\":\"377015af-5018-4c24-8b0e-1124de2671ea\",\"type\":\"GlyphRenderer\"}],\"title\":{\"id\":\"c69a530b-2173-4a97-a006-d08419e2d764\",\"type\":\"Title\"},\"toolbar\":{\"id\":\"f101105e-2d25-4294-9787-fb6db6374a66\",\"type\":\"Toolbar\"},\"x_range\":{\"id\":\"62664a57-150b-4138-8fbf-ff0dc3d00aa4\",\"type\":\"DataRange1d\"},\"x_scale\":{\"id\":\"944ce84e-e303-4f77-bb5b-b6a136b2c052\",\"type\":\"LinearScale\"},\"y_range\":{\"id\":\"53bc77bd-b731-41a3-88c4-9332f7541b30\",\"type\":\"DataRange1d\"},\"y_scale\":{\"id\":\"82f7b242-3a91-4b43-9868-a8a8c45a3898\",\"type\":\"LinearScale\"}},\"id\":\"5d7ed1f5-91da-4fed-8c35-a6cdd973b176\",\"subtype\":\"Figure\",\"type\":\"Plot\"},{\"attributes\":{\"source\":{\"id\":\"8bf296fa-f1fa-4e28-a17c-3b8a9e10df9b\",\"type\":\"ColumnDataSource\"}},\"id\":\"f245b4c4-a340-4fd7-a151-7ded4a88386b\",\"type\":\"CDSView\"},{\"attributes\":{\"active_drag\":\"auto\",\"active_inspect\":\"auto\",\"active_scroll\":\"auto\",\"active_tap\":\"auto\",\"tools\":[{\"id\":\"3314fc17-3bf0-4de6-b614-f8af5151eb60\",\"type\":\"PanTool\"},{\"id\":\"12ddee18-7d2d-481a-bcaa-b50074c88cee\",\"type\":\"WheelZoomTool\"},{\"id\":\"3d608eb4-bfac-4f9d-a5ae-d55fea5e73bb\",\"type\":\"BoxZoomTool\"},{\"id\":\"9d5dea5a-4c5b-40cd-bed6-3aa4a541c280\",\"type\":\"SaveTool\"},{\"id\":\"4441df66-829a-43f4-9056-96108a09517c\",\"type\":\"ResetTool\"},{\"id\":\"e3ba6015-2a0e-4a8d-90ed-404b8af6f321\",\"type\":\"HelpTool\"}]},\"id\":\"f101105e-2d25-4294-9787-fb6db6374a66\",\"type\":\"Toolbar\"},{\"attributes\":{},\"id\":\"5355f887-3da0-49f8-b06e-668bdb615a91\",\"type\":\"BasicTickFormatter\"},{\"attributes\":{},\"id\":\"3314fc17-3bf0-4de6-b614-f8af5151eb60\",\"type\":\"PanTool\"},{\"attributes\":{},\"id\":\"12ddee18-7d2d-481a-bcaa-b50074c88cee\",\"type\":\"WheelZoomTool\"},{\"attributes\":{\"plot\":null,\"text\":\"\"},\"id\":\"c69a530b-2173-4a97-a006-d08419e2d764\",\"type\":\"Title\"},{\"attributes\":{\"data_source\":{\"id\":\"8bf296fa-f1fa-4e28-a17c-3b8a9e10df9b\",\"type\":\"ColumnDataSource\"},\"glyph\":{\"id\":\"383735c1-7242-4476-80ae-fbba4c403e35\",\"type\":\"Text\"},\"hover_glyph\":null,\"muted_glyph\":null,\"nonselection_glyph\":{\"id\":\"35872f8b-22e8-4615-9a1c-7b74e688a869\",\"type\":\"Text\"},\"selection_glyph\":null,\"view\":{\"id\":\"f245b4c4-a340-4fd7-a151-7ded4a88386b\",\"type\":\"CDSView\"}},\"id\":\"377015af-5018-4c24-8b0e-1124de2671ea\",\"type\":\"GlyphRenderer\"},{\"attributes\":{\"text_color\":{\"value\":\"black\"},\"x\":{\"field\":\"x\"},\"y\":{\"field\":\"y\"}},\"id\":\"383735c1-7242-4476-80ae-fbba4c403e35\",\"type\":\"Text\"},{\"attributes\":{},\"id\":\"faae2a2a-010e-4795-83dc-35058ce777d9\",\"type\":\"BasicTicker\"},{\"attributes\":{},\"id\":\"9d5dea5a-4c5b-40cd-bed6-3aa4a541c280\",\"type\":\"SaveTool\"},{\"attributes\":{},\"id\":\"e3ba6015-2a0e-4a8d-90ed-404b8af6f321\",\"type\":\"HelpTool\"}],\"root_ids\":[\"5d7ed1f5-91da-4fed-8c35-a6cdd973b176\"]},\"title\":\"Bokeh Application\",\"version\":\"0.12.10\"}};\n",
       "    var render_items = [{\"docid\":\"91d6550c-eb52-478e-9e36-760437d836b5\",\"elementid\":\"799246b5-df5e-487d-8881-97b177348b0f\",\"modelid\":\"5d7ed1f5-91da-4fed-8c35-a6cdd973b176\"}];\n",
       "\n",
       "    root.Bokeh.embed.embed_items(docs_json, render_items);\n",
       "  }\n",
       "\n",
       "  if (root.Bokeh !== undefined) {\n",
       "    embed_document(root);\n",
       "  } else {\n",
       "    var attempts = 0;\n",
       "    var timer = setInterval(function(root) {\n",
       "      if (root.Bokeh !== undefined) {\n",
       "        embed_document(root);\n",
       "        clearInterval(timer);\n",
       "      }\n",
       "      attempts++;\n",
       "      if (attempts > 100) {\n",
       "        console.log(\"Bokeh: ERROR: Unable to embed document because BokehJS library is missing\")\n",
       "        clearInterval(timer);\n",
       "      }\n",
       "    }, 10, root)\n",
       "  }\n",
       "})(window);"
      ],
      "application/vnd.bokehjs_exec.v0+json": ""
     },
     "metadata": {
      "application/vnd.bokehjs_exec.v0+json": {
       "id": "5d7ed1f5-91da-4fed-8c35-a6cdd973b176"
      }
     },
     "output_type": "display_data"
    }
   ],
   "source": [
    "# Extract a sample. If you have a powerful computer you can display all 17,000\n",
    "plot = figure(plot_width=800, plot_height=800)\n",
    "_ = plot.text(x=x2D_df.x, y=x2D_df.y, text=x2D_df.word)\n",
    "show(plot)"
   ]
  },
  {
   "cell_type": "code",
   "execution_count": 21,
   "metadata": {},
   "outputs": [
    {
     "name": "stdout",
     "output_type": "stream",
     "text": [
      "[('specific', 0.996046781539917), ('symptom', 0.9958760142326355), ('condition', 0.9957076907157898), ('prostate', 0.9955739974975586), ('issue', 0.9950482845306396), ('would', 0.9949253797531128), ('cause', 0.9947460889816284), ('study', 0.9945489168167114), ('section', 0.9945038557052612), ('know', 0.9944651126861572)]\n"
     ]
    },
    {
     "name": "stderr",
     "output_type": "stream",
     "text": [
      "C:\\APPS\\Anaconda3\\lib\\site-packages\\ipykernel_launcher.py:1: DeprecationWarning: Call to deprecated `most_similar` (Method will be removed in 4.0.0, use self.wv.most_similar() instead).\n",
      "  \"\"\"Entry point for launching an IPython kernel.\n"
     ]
    }
   ],
   "source": [
    "print(w2v_model.most_similar(positive=['patient','tamsulosin','adverse','event']))"
   ]
  },
  {
   "cell_type": "code",
   "execution_count": null,
   "metadata": {
    "collapsed": true
   },
   "outputs": [],
   "source": []
  }
 ],
 "metadata": {
  "kernelspec": {
   "display_name": "Python 3",
   "language": "python",
   "name": "python3"
  },
  "language_info": {
   "codemirror_mode": {
    "name": "ipython",
    "version": 3
   },
   "file_extension": ".py",
   "mimetype": "text/x-python",
   "name": "python",
   "nbconvert_exporter": "python",
   "pygments_lexer": "ipython3",
   "version": "3.6.3"
  }
 },
 "nbformat": 4,
 "nbformat_minor": 2
}
